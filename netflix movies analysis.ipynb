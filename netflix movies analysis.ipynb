{
 "cells": [
  {
   "cell_type": "markdown",
   "metadata": {},
   "source": [
    "### This dataset has two files containing the titles (titles.csv) and the cast (credits.csv) for the title.\n",
    "\n",
    "### This dataset contains +5k unique titles on Netflix with 15 columns containing their information, including:\n",
    "\n",
    "- id: The title ID on JustWatch.\n",
    "- title: The name of the title.\n",
    "- show_type: TV show or movie.\n",
    "- description: A brief description.\n",
    "- release_year: The release year.\n",
    "- age_certification: The age certification.\n",
    "- runtime: The length of the episode (SHOW) or movie.\n",
    "- genres: A list of genres.\n",
    "- production_countries: A list of countries that produced the title.\n",
    "- seasons: Number of seasons if it's a SHOW.\n",
    "- imdb_id: The title ID on IMDB.\n",
    "- imdb_score: Score on IMDB.\n",
    "- imdb_votes: Votes on IMDB.\n",
    "- tmdb_popularity: Popularity on TMDB.\n",
    "- tmdb_score: Score on TMDB.\n",
    "### And over +77k credits of actors and directors on Netflix titles with 5 columns containing their information, including:\n",
    "\n",
    "- person_ID: The person ID on JustWatch.\n",
    "- id: The title ID on JustWatch.\n",
    "- name: The actor or director's name.\n",
    "- character_name: The character name.\n",
    "- role: ACTOR or DIRECTOR."
   ]
  },
  {
   "cell_type": "code",
   "execution_count": 1,
   "metadata": {},
   "outputs": [],
   "source": [
    "## import the necessary libraries\n",
    "import pandas as pd\n",
    "import numpy as np\n",
    "import matplotlib.pyplot as plt\n",
    "import seaborn as sns\n",
    "from ast import literal_eval\n",
    "from sklearn.metrics.pairwise import cosine_similarity\n",
    "from sklearn.feature_extraction.text import CountVectorizer"
   ]
  },
  {
   "cell_type": "code",
   "execution_count": 2,
   "metadata": {},
   "outputs": [],
   "source": [
    "# read the data\n",
    "df_titles = pd.read_csv(\"netflix/titles.csv\")\n",
    "df_credits = pd.read_csv(\"netflix/credits.csv\")"
   ]
  },
  {
   "cell_type": "markdown",
   "metadata": {},
   "source": [
    "### EDA TASKS\n",
    "\n",
    "- How many movies/shows are released each year\n",
    "- List the different kinds of genres in the dataset\n",
    "- Understanding what content is available in different countries\n",
    "- Identifying similar content by matching text-based features\n",
    "- Network analysis of Actors / Directors and find interesting insights\n",
    "- Is Netflix has increasingly focusing on TV rather than movies in recent years."
   ]
  },
  {
   "cell_type": "code",
   "execution_count": 3,
   "metadata": {},
   "outputs": [
    {
     "data": {
      "text/html": [
       "<div>\n",
       "<style scoped>\n",
       "    .dataframe tbody tr th:only-of-type {\n",
       "        vertical-align: middle;\n",
       "    }\n",
       "\n",
       "    .dataframe tbody tr th {\n",
       "        vertical-align: top;\n",
       "    }\n",
       "\n",
       "    .dataframe thead th {\n",
       "        text-align: right;\n",
       "    }\n",
       "</style>\n",
       "<table border=\"1\" class=\"dataframe\">\n",
       "  <thead>\n",
       "    <tr style=\"text-align: right;\">\n",
       "      <th></th>\n",
       "      <th>id</th>\n",
       "      <th>title</th>\n",
       "      <th>type</th>\n",
       "      <th>description</th>\n",
       "      <th>release_year</th>\n",
       "      <th>age_certification</th>\n",
       "      <th>runtime</th>\n",
       "      <th>genres</th>\n",
       "      <th>production_countries</th>\n",
       "      <th>seasons</th>\n",
       "      <th>imdb_id</th>\n",
       "      <th>imdb_score</th>\n",
       "      <th>imdb_votes</th>\n",
       "      <th>tmdb_popularity</th>\n",
       "      <th>tmdb_score</th>\n",
       "    </tr>\n",
       "  </thead>\n",
       "  <tbody>\n",
       "    <tr>\n",
       "      <th>0</th>\n",
       "      <td>ts300399</td>\n",
       "      <td>Five Came Back: The Reference Films</td>\n",
       "      <td>SHOW</td>\n",
       "      <td>This collection includes 12 World War II-era p...</td>\n",
       "      <td>1945</td>\n",
       "      <td>TV-MA</td>\n",
       "      <td>48</td>\n",
       "      <td>['documentation']</td>\n",
       "      <td>['US']</td>\n",
       "      <td>1.0</td>\n",
       "      <td>NaN</td>\n",
       "      <td>NaN</td>\n",
       "      <td>NaN</td>\n",
       "      <td>0.600</td>\n",
       "      <td>NaN</td>\n",
       "    </tr>\n",
       "    <tr>\n",
       "      <th>1</th>\n",
       "      <td>tm84618</td>\n",
       "      <td>Taxi Driver</td>\n",
       "      <td>MOVIE</td>\n",
       "      <td>A mentally unstable Vietnam War veteran works ...</td>\n",
       "      <td>1976</td>\n",
       "      <td>R</td>\n",
       "      <td>113</td>\n",
       "      <td>['crime', 'drama']</td>\n",
       "      <td>['US']</td>\n",
       "      <td>NaN</td>\n",
       "      <td>tt0075314</td>\n",
       "      <td>8.3</td>\n",
       "      <td>795222.0</td>\n",
       "      <td>27.612</td>\n",
       "      <td>8.2</td>\n",
       "    </tr>\n",
       "    <tr>\n",
       "      <th>2</th>\n",
       "      <td>tm127384</td>\n",
       "      <td>Monty Python and the Holy Grail</td>\n",
       "      <td>MOVIE</td>\n",
       "      <td>King Arthur, accompanied by his squire, recrui...</td>\n",
       "      <td>1975</td>\n",
       "      <td>PG</td>\n",
       "      <td>91</td>\n",
       "      <td>['comedy', 'fantasy']</td>\n",
       "      <td>['GB']</td>\n",
       "      <td>NaN</td>\n",
       "      <td>tt0071853</td>\n",
       "      <td>8.2</td>\n",
       "      <td>530877.0</td>\n",
       "      <td>18.216</td>\n",
       "      <td>7.8</td>\n",
       "    </tr>\n",
       "    <tr>\n",
       "      <th>3</th>\n",
       "      <td>tm70993</td>\n",
       "      <td>Life of Brian</td>\n",
       "      <td>MOVIE</td>\n",
       "      <td>Brian Cohen is an average young Jewish man, bu...</td>\n",
       "      <td>1979</td>\n",
       "      <td>R</td>\n",
       "      <td>94</td>\n",
       "      <td>['comedy']</td>\n",
       "      <td>['GB']</td>\n",
       "      <td>NaN</td>\n",
       "      <td>tt0079470</td>\n",
       "      <td>8.0</td>\n",
       "      <td>392419.0</td>\n",
       "      <td>17.505</td>\n",
       "      <td>7.8</td>\n",
       "    </tr>\n",
       "    <tr>\n",
       "      <th>4</th>\n",
       "      <td>tm190788</td>\n",
       "      <td>The Exorcist</td>\n",
       "      <td>MOVIE</td>\n",
       "      <td>12-year-old Regan MacNeil begins to adapt an e...</td>\n",
       "      <td>1973</td>\n",
       "      <td>R</td>\n",
       "      <td>133</td>\n",
       "      <td>['horror']</td>\n",
       "      <td>['US']</td>\n",
       "      <td>NaN</td>\n",
       "      <td>tt0070047</td>\n",
       "      <td>8.1</td>\n",
       "      <td>391942.0</td>\n",
       "      <td>95.337</td>\n",
       "      <td>7.7</td>\n",
       "    </tr>\n",
       "  </tbody>\n",
       "</table>\n",
       "</div>"
      ],
      "text/plain": [
       "         id                                title   type  \\\n",
       "0  ts300399  Five Came Back: The Reference Films   SHOW   \n",
       "1   tm84618                          Taxi Driver  MOVIE   \n",
       "2  tm127384      Monty Python and the Holy Grail  MOVIE   \n",
       "3   tm70993                        Life of Brian  MOVIE   \n",
       "4  tm190788                         The Exorcist  MOVIE   \n",
       "\n",
       "                                         description  release_year  \\\n",
       "0  This collection includes 12 World War II-era p...          1945   \n",
       "1  A mentally unstable Vietnam War veteran works ...          1976   \n",
       "2  King Arthur, accompanied by his squire, recrui...          1975   \n",
       "3  Brian Cohen is an average young Jewish man, bu...          1979   \n",
       "4  12-year-old Regan MacNeil begins to adapt an e...          1973   \n",
       "\n",
       "  age_certification  runtime                 genres production_countries  \\\n",
       "0             TV-MA       48      ['documentation']               ['US']   \n",
       "1                 R      113     ['crime', 'drama']               ['US']   \n",
       "2                PG       91  ['comedy', 'fantasy']               ['GB']   \n",
       "3                 R       94             ['comedy']               ['GB']   \n",
       "4                 R      133             ['horror']               ['US']   \n",
       "\n",
       "   seasons    imdb_id  imdb_score  imdb_votes  tmdb_popularity  tmdb_score  \n",
       "0      1.0        NaN         NaN         NaN            0.600         NaN  \n",
       "1      NaN  tt0075314         8.3    795222.0           27.612         8.2  \n",
       "2      NaN  tt0071853         8.2    530877.0           18.216         7.8  \n",
       "3      NaN  tt0079470         8.0    392419.0           17.505         7.8  \n",
       "4      NaN  tt0070047         8.1    391942.0           95.337         7.7  "
      ]
     },
     "execution_count": 3,
     "metadata": {},
     "output_type": "execute_result"
    }
   ],
   "source": [
    "# View the first five rows of the titles dataset\n",
    "df_titles.head()"
   ]
  },
  {
   "cell_type": "code",
   "execution_count": 4,
   "metadata": {},
   "outputs": [
    {
     "data": {
      "text/html": [
       "<div>\n",
       "<style scoped>\n",
       "    .dataframe tbody tr th:only-of-type {\n",
       "        vertical-align: middle;\n",
       "    }\n",
       "\n",
       "    .dataframe tbody tr th {\n",
       "        vertical-align: top;\n",
       "    }\n",
       "\n",
       "    .dataframe thead th {\n",
       "        text-align: right;\n",
       "    }\n",
       "</style>\n",
       "<table border=\"1\" class=\"dataframe\">\n",
       "  <thead>\n",
       "    <tr style=\"text-align: right;\">\n",
       "      <th></th>\n",
       "      <th>id</th>\n",
       "      <th>title</th>\n",
       "      <th>type</th>\n",
       "      <th>description</th>\n",
       "      <th>release_year</th>\n",
       "      <th>age_certification</th>\n",
       "      <th>runtime</th>\n",
       "      <th>genres</th>\n",
       "      <th>production_countries</th>\n",
       "      <th>seasons</th>\n",
       "      <th>imdb_id</th>\n",
       "      <th>imdb_score</th>\n",
       "      <th>imdb_votes</th>\n",
       "      <th>tmdb_popularity</th>\n",
       "      <th>tmdb_score</th>\n",
       "    </tr>\n",
       "  </thead>\n",
       "  <tbody>\n",
       "    <tr>\n",
       "      <th>2501</th>\n",
       "      <td>tm371959</td>\n",
       "      <td>6 Balloons</td>\n",
       "      <td>MOVIE</td>\n",
       "      <td>Over the course of one night, a woman drives a...</td>\n",
       "      <td>2018</td>\n",
       "      <td>NaN</td>\n",
       "      <td>75</td>\n",
       "      <td>['drama']</td>\n",
       "      <td>['US']</td>\n",
       "      <td>NaN</td>\n",
       "      <td>tt6142496</td>\n",
       "      <td>5.9</td>\n",
       "      <td>4087.0</td>\n",
       "      <td>10.88</td>\n",
       "      <td>6.1</td>\n",
       "    </tr>\n",
       "  </tbody>\n",
       "</table>\n",
       "</div>"
      ],
      "text/plain": [
       "            id       title   type  \\\n",
       "2501  tm371959  6 Balloons  MOVIE   \n",
       "\n",
       "                                            description  release_year  \\\n",
       "2501  Over the course of one night, a woman drives a...          2018   \n",
       "\n",
       "     age_certification  runtime     genres production_countries  seasons  \\\n",
       "2501               NaN       75  ['drama']               ['US']      NaN   \n",
       "\n",
       "        imdb_id  imdb_score  imdb_votes  tmdb_popularity  tmdb_score  \n",
       "2501  tt6142496         5.9      4087.0            10.88         6.1  "
      ]
     },
     "execution_count": 4,
     "metadata": {},
     "output_type": "execute_result"
    }
   ],
   "source": [
    "df_titles[df_titles[\"id\"]==\"tm371959\"]"
   ]
  },
  {
   "cell_type": "code",
   "execution_count": 5,
   "metadata": {},
   "outputs": [
    {
     "data": {
      "text/html": [
       "<div>\n",
       "<style scoped>\n",
       "    .dataframe tbody tr th:only-of-type {\n",
       "        vertical-align: middle;\n",
       "    }\n",
       "\n",
       "    .dataframe tbody tr th {\n",
       "        vertical-align: top;\n",
       "    }\n",
       "\n",
       "    .dataframe thead th {\n",
       "        text-align: right;\n",
       "    }\n",
       "</style>\n",
       "<table border=\"1\" class=\"dataframe\">\n",
       "  <thead>\n",
       "    <tr style=\"text-align: right;\">\n",
       "      <th></th>\n",
       "      <th>person_id</th>\n",
       "      <th>id</th>\n",
       "      <th>name</th>\n",
       "      <th>character</th>\n",
       "      <th>role</th>\n",
       "    </tr>\n",
       "  </thead>\n",
       "  <tbody>\n",
       "    <tr>\n",
       "      <th>0</th>\n",
       "      <td>3748</td>\n",
       "      <td>tm84618</td>\n",
       "      <td>Robert De Niro</td>\n",
       "      <td>Travis Bickle</td>\n",
       "      <td>ACTOR</td>\n",
       "    </tr>\n",
       "    <tr>\n",
       "      <th>1</th>\n",
       "      <td>14658</td>\n",
       "      <td>tm84618</td>\n",
       "      <td>Jodie Foster</td>\n",
       "      <td>Iris Steensma</td>\n",
       "      <td>ACTOR</td>\n",
       "    </tr>\n",
       "    <tr>\n",
       "      <th>2</th>\n",
       "      <td>7064</td>\n",
       "      <td>tm84618</td>\n",
       "      <td>Albert Brooks</td>\n",
       "      <td>Tom</td>\n",
       "      <td>ACTOR</td>\n",
       "    </tr>\n",
       "    <tr>\n",
       "      <th>3</th>\n",
       "      <td>3739</td>\n",
       "      <td>tm84618</td>\n",
       "      <td>Harvey Keitel</td>\n",
       "      <td>Matthew 'Sport' Higgins</td>\n",
       "      <td>ACTOR</td>\n",
       "    </tr>\n",
       "    <tr>\n",
       "      <th>4</th>\n",
       "      <td>48933</td>\n",
       "      <td>tm84618</td>\n",
       "      <td>Cybill Shepherd</td>\n",
       "      <td>Betsy</td>\n",
       "      <td>ACTOR</td>\n",
       "    </tr>\n",
       "  </tbody>\n",
       "</table>\n",
       "</div>"
      ],
      "text/plain": [
       "   person_id       id             name                character   role\n",
       "0       3748  tm84618   Robert De Niro            Travis Bickle  ACTOR\n",
       "1      14658  tm84618     Jodie Foster            Iris Steensma  ACTOR\n",
       "2       7064  tm84618    Albert Brooks                      Tom  ACTOR\n",
       "3       3739  tm84618    Harvey Keitel  Matthew 'Sport' Higgins  ACTOR\n",
       "4      48933  tm84618  Cybill Shepherd                    Betsy  ACTOR"
      ]
     },
     "execution_count": 5,
     "metadata": {},
     "output_type": "execute_result"
    }
   ],
   "source": [
    "# view the first five rows of the credits data set\n",
    "df_credits.head()"
   ]
  },
  {
   "cell_type": "code",
   "execution_count": 6,
   "metadata": {},
   "outputs": [
    {
     "name": "stdout",
     "output_type": "stream",
     "text": [
      "There are 5806 rows and 15 columns in the titles dataset\n"
     ]
    }
   ],
   "source": [
    "# view the dimensions of the titles data set\n",
    "print(f\"There are {df_titles.shape[0]} rows and {df_titles.shape[1]} columns in the titles dataset\")"
   ]
  },
  {
   "cell_type": "code",
   "execution_count": 7,
   "metadata": {},
   "outputs": [
    {
     "name": "stdout",
     "output_type": "stream",
     "text": [
      "There are 77213 rows and 5 columns in the credits dataset\n"
     ]
    }
   ],
   "source": [
    "# view the dimensions of the titles data set\n",
    "print(f\"There are {df_credits.shape[0]} rows and {df_credits.shape[1]} columns in the credits dataset\")"
   ]
  },
  {
   "cell_type": "markdown",
   "metadata": {},
   "source": [
    "## Merge the datasets"
   ]
  },
  {
   "cell_type": "code",
   "execution_count": 8,
   "metadata": {},
   "outputs": [],
   "source": [
    "unique_ids = df_credits[\"id\"].unique()\n",
    "ids = df_credits[\"id\"]\n",
    "roles = df_credits[\"role\"]\n",
    "names = df_credits[\"name\"]\n",
    "\n",
    "# List save actors and directors\n",
    "actors = []\n",
    "directors = []\n",
    "\n",
    "start = 0\n",
    "\n",
    "for id_unique in unique_ids:\n",
    "    act = []\n",
    "    dir = []\n",
    "    for i in range(start, len(ids)):\n",
    "        if (ids[i] == id_unique):\n",
    "            if roles[i] == \"ACTOR\":\n",
    "                act.append(names[i])\n",
    "            elif roles[i] == \"DIRECTOR\":\n",
    "                dir.append(names[i])\n",
    "        else:\n",
    "            start = i\n",
    "            break\n",
    "    actors.append(act)\n",
    "    directors.append(dir)"
   ]
  },
  {
   "cell_type": "code",
   "execution_count": 9,
   "metadata": {},
   "outputs": [],
   "source": [
    "data = {'id': unique_ids, 'actors': actors, 'directors': directors}\n",
    "new_df = pd.DataFrame(data = data)"
   ]
  },
  {
   "cell_type": "code",
   "execution_count": 10,
   "metadata": {},
   "outputs": [],
   "source": [
    "df = df_titles.merge(new_df, how='inner', on='id')\n",
    "\n",
    "df['genres'] = df['genres'].apply(literal_eval)"
   ]
  },
  {
   "cell_type": "code",
   "execution_count": 11,
   "metadata": {},
   "outputs": [
    {
     "data": {
      "text/html": [
       "<div>\n",
       "<style scoped>\n",
       "    .dataframe tbody tr th:only-of-type {\n",
       "        vertical-align: middle;\n",
       "    }\n",
       "\n",
       "    .dataframe tbody tr th {\n",
       "        vertical-align: top;\n",
       "    }\n",
       "\n",
       "    .dataframe thead th {\n",
       "        text-align: right;\n",
       "    }\n",
       "</style>\n",
       "<table border=\"1\" class=\"dataframe\">\n",
       "  <thead>\n",
       "    <tr style=\"text-align: right;\">\n",
       "      <th></th>\n",
       "      <th>id</th>\n",
       "      <th>title</th>\n",
       "      <th>type</th>\n",
       "      <th>description</th>\n",
       "      <th>release_year</th>\n",
       "      <th>age_certification</th>\n",
       "      <th>runtime</th>\n",
       "      <th>genres</th>\n",
       "      <th>production_countries</th>\n",
       "      <th>seasons</th>\n",
       "      <th>imdb_id</th>\n",
       "      <th>imdb_score</th>\n",
       "      <th>imdb_votes</th>\n",
       "      <th>tmdb_popularity</th>\n",
       "      <th>tmdb_score</th>\n",
       "      <th>actors</th>\n",
       "      <th>directors</th>\n",
       "    </tr>\n",
       "  </thead>\n",
       "  <tbody>\n",
       "    <tr>\n",
       "      <th>0</th>\n",
       "      <td>tm84618</td>\n",
       "      <td>Taxi Driver</td>\n",
       "      <td>MOVIE</td>\n",
       "      <td>A mentally unstable Vietnam War veteran works ...</td>\n",
       "      <td>1976</td>\n",
       "      <td>R</td>\n",
       "      <td>113</td>\n",
       "      <td>[crime, drama]</td>\n",
       "      <td>['US']</td>\n",
       "      <td>NaN</td>\n",
       "      <td>tt0075314</td>\n",
       "      <td>8.3</td>\n",
       "      <td>795222.0</td>\n",
       "      <td>27.612</td>\n",
       "      <td>8.2</td>\n",
       "      <td>[Robert De Niro, Jodie Foster, Albert Brooks, ...</td>\n",
       "      <td>[Martin Scorsese]</td>\n",
       "    </tr>\n",
       "    <tr>\n",
       "      <th>1</th>\n",
       "      <td>tm127384</td>\n",
       "      <td>Monty Python and the Holy Grail</td>\n",
       "      <td>MOVIE</td>\n",
       "      <td>King Arthur, accompanied by his squire, recrui...</td>\n",
       "      <td>1975</td>\n",
       "      <td>PG</td>\n",
       "      <td>91</td>\n",
       "      <td>[comedy, fantasy]</td>\n",
       "      <td>['GB']</td>\n",
       "      <td>NaN</td>\n",
       "      <td>tt0071853</td>\n",
       "      <td>8.2</td>\n",
       "      <td>530877.0</td>\n",
       "      <td>18.216</td>\n",
       "      <td>7.8</td>\n",
       "      <td>[Graham Chapman, John Cleese, Eric Idle, Terry...</td>\n",
       "      <td>[Terry Jones, Terry Gilliam]</td>\n",
       "    </tr>\n",
       "    <tr>\n",
       "      <th>2</th>\n",
       "      <td>tm70993</td>\n",
       "      <td>Life of Brian</td>\n",
       "      <td>MOVIE</td>\n",
       "      <td>Brian Cohen is an average young Jewish man, bu...</td>\n",
       "      <td>1979</td>\n",
       "      <td>R</td>\n",
       "      <td>94</td>\n",
       "      <td>[comedy]</td>\n",
       "      <td>['GB']</td>\n",
       "      <td>NaN</td>\n",
       "      <td>tt0079470</td>\n",
       "      <td>8.0</td>\n",
       "      <td>392419.0</td>\n",
       "      <td>17.505</td>\n",
       "      <td>7.8</td>\n",
       "      <td>[Graham Chapman, John Cleese, Terry Gilliam, E...</td>\n",
       "      <td>[Terry Jones]</td>\n",
       "    </tr>\n",
       "    <tr>\n",
       "      <th>3</th>\n",
       "      <td>tm190788</td>\n",
       "      <td>The Exorcist</td>\n",
       "      <td>MOVIE</td>\n",
       "      <td>12-year-old Regan MacNeil begins to adapt an e...</td>\n",
       "      <td>1973</td>\n",
       "      <td>R</td>\n",
       "      <td>133</td>\n",
       "      <td>[horror]</td>\n",
       "      <td>['US']</td>\n",
       "      <td>NaN</td>\n",
       "      <td>tt0070047</td>\n",
       "      <td>8.1</td>\n",
       "      <td>391942.0</td>\n",
       "      <td>95.337</td>\n",
       "      <td>7.7</td>\n",
       "      <td>[Ellen Burstyn, Linda Blair, Max von Sydow, Le...</td>\n",
       "      <td>[William Friedkin]</td>\n",
       "    </tr>\n",
       "    <tr>\n",
       "      <th>4</th>\n",
       "      <td>ts22164</td>\n",
       "      <td>Monty Python's Flying Circus</td>\n",
       "      <td>SHOW</td>\n",
       "      <td>A British sketch comedy series with the shows ...</td>\n",
       "      <td>1969</td>\n",
       "      <td>TV-14</td>\n",
       "      <td>30</td>\n",
       "      <td>[comedy, european]</td>\n",
       "      <td>['GB']</td>\n",
       "      <td>4.0</td>\n",
       "      <td>tt0063929</td>\n",
       "      <td>8.8</td>\n",
       "      <td>72895.0</td>\n",
       "      <td>12.919</td>\n",
       "      <td>8.3</td>\n",
       "      <td>[Graham Chapman, Michael Palin, Terry Jones, E...</td>\n",
       "      <td>[]</td>\n",
       "    </tr>\n",
       "  </tbody>\n",
       "</table>\n",
       "</div>"
      ],
      "text/plain": [
       "         id                            title   type  \\\n",
       "0   tm84618                      Taxi Driver  MOVIE   \n",
       "1  tm127384  Monty Python and the Holy Grail  MOVIE   \n",
       "2   tm70993                    Life of Brian  MOVIE   \n",
       "3  tm190788                     The Exorcist  MOVIE   \n",
       "4   ts22164     Monty Python's Flying Circus   SHOW   \n",
       "\n",
       "                                         description  release_year  \\\n",
       "0  A mentally unstable Vietnam War veteran works ...          1976   \n",
       "1  King Arthur, accompanied by his squire, recrui...          1975   \n",
       "2  Brian Cohen is an average young Jewish man, bu...          1979   \n",
       "3  12-year-old Regan MacNeil begins to adapt an e...          1973   \n",
       "4  A British sketch comedy series with the shows ...          1969   \n",
       "\n",
       "  age_certification  runtime              genres production_countries  \\\n",
       "0                 R      113      [crime, drama]               ['US']   \n",
       "1                PG       91   [comedy, fantasy]               ['GB']   \n",
       "2                 R       94            [comedy]               ['GB']   \n",
       "3                 R      133            [horror]               ['US']   \n",
       "4             TV-14       30  [comedy, european]               ['GB']   \n",
       "\n",
       "   seasons    imdb_id  imdb_score  imdb_votes  tmdb_popularity  tmdb_score  \\\n",
       "0      NaN  tt0075314         8.3    795222.0           27.612         8.2   \n",
       "1      NaN  tt0071853         8.2    530877.0           18.216         7.8   \n",
       "2      NaN  tt0079470         8.0    392419.0           17.505         7.8   \n",
       "3      NaN  tt0070047         8.1    391942.0           95.337         7.7   \n",
       "4      4.0  tt0063929         8.8     72895.0           12.919         8.3   \n",
       "\n",
       "                                              actors  \\\n",
       "0  [Robert De Niro, Jodie Foster, Albert Brooks, ...   \n",
       "1  [Graham Chapman, John Cleese, Eric Idle, Terry...   \n",
       "2  [Graham Chapman, John Cleese, Terry Gilliam, E...   \n",
       "3  [Ellen Burstyn, Linda Blair, Max von Sydow, Le...   \n",
       "4  [Graham Chapman, Michael Palin, Terry Jones, E...   \n",
       "\n",
       "                      directors  \n",
       "0             [Martin Scorsese]  \n",
       "1  [Terry Jones, Terry Gilliam]  \n",
       "2                 [Terry Jones]  \n",
       "3            [William Friedkin]  \n",
       "4                            []  "
      ]
     },
     "execution_count": 11,
     "metadata": {},
     "output_type": "execute_result"
    }
   ],
   "source": [
    "df.head()"
   ]
  },
  {
   "cell_type": "code",
   "execution_count": 12,
   "metadata": {},
   "outputs": [],
   "source": [
    "# create important columns for the recommender system\n",
    "columns = [\"actors\", \"directors\", \"genres\", \"title\"]"
   ]
  },
  {
   "cell_type": "code",
   "execution_count": 13,
   "metadata": {},
   "outputs": [
    {
     "data": {
      "text/plain": [
       "id                       object\n",
       "title                    object\n",
       "type                     object\n",
       "description              object\n",
       "release_year              int64\n",
       "age_certification        object\n",
       "runtime                   int64\n",
       "genres                   object\n",
       "production_countries     object\n",
       "seasons                 float64\n",
       "imdb_id                  object\n",
       "imdb_score              float64\n",
       "imdb_votes              float64\n",
       "tmdb_popularity         float64\n",
       "tmdb_score              float64\n",
       "actors                   object\n",
       "directors                object\n",
       "dtype: object"
      ]
     },
     "execution_count": 13,
     "metadata": {},
     "output_type": "execute_result"
    }
   ],
   "source": [
    "df.dtypes"
   ]
  },
  {
   "cell_type": "code",
   "execution_count": 14,
   "metadata": {},
   "outputs": [],
   "source": [
    "df[columns] = df[columns].astype('str')"
   ]
  },
  {
   "cell_type": "code",
   "execution_count": 15,
   "metadata": {},
   "outputs": [
    {
     "data": {
      "text/html": [
       "<div>\n",
       "<style scoped>\n",
       "    .dataframe tbody tr th:only-of-type {\n",
       "        vertical-align: middle;\n",
       "    }\n",
       "\n",
       "    .dataframe tbody tr th {\n",
       "        vertical-align: top;\n",
       "    }\n",
       "\n",
       "    .dataframe thead th {\n",
       "        text-align: right;\n",
       "    }\n",
       "</style>\n",
       "<table border=\"1\" class=\"dataframe\">\n",
       "  <thead>\n",
       "    <tr style=\"text-align: right;\">\n",
       "      <th></th>\n",
       "      <th>actors</th>\n",
       "      <th>directors</th>\n",
       "      <th>genres</th>\n",
       "      <th>title</th>\n",
       "    </tr>\n",
       "  </thead>\n",
       "  <tbody>\n",
       "    <tr>\n",
       "      <th>0</th>\n",
       "      <td>['Robert De Niro', 'Jodie Foster', 'Albert Bro...</td>\n",
       "      <td>['Martin Scorsese']</td>\n",
       "      <td>['crime', 'drama']</td>\n",
       "      <td>Taxi Driver</td>\n",
       "    </tr>\n",
       "    <tr>\n",
       "      <th>1</th>\n",
       "      <td>['Graham Chapman', 'John Cleese', 'Eric Idle',...</td>\n",
       "      <td>['Terry Jones', 'Terry Gilliam']</td>\n",
       "      <td>['comedy', 'fantasy']</td>\n",
       "      <td>Monty Python and the Holy Grail</td>\n",
       "    </tr>\n",
       "    <tr>\n",
       "      <th>2</th>\n",
       "      <td>['Graham Chapman', 'John Cleese', 'Terry Gilli...</td>\n",
       "      <td>['Terry Jones']</td>\n",
       "      <td>['comedy']</td>\n",
       "      <td>Life of Brian</td>\n",
       "    </tr>\n",
       "    <tr>\n",
       "      <th>3</th>\n",
       "      <td>['Ellen Burstyn', 'Linda Blair', 'Max von Sydo...</td>\n",
       "      <td>['William Friedkin']</td>\n",
       "      <td>['horror']</td>\n",
       "      <td>The Exorcist</td>\n",
       "    </tr>\n",
       "    <tr>\n",
       "      <th>4</th>\n",
       "      <td>['Graham Chapman', 'Michael Palin', 'Terry Jon...</td>\n",
       "      <td>[]</td>\n",
       "      <td>['comedy', 'european']</td>\n",
       "      <td>Monty Python's Flying Circus</td>\n",
       "    </tr>\n",
       "  </tbody>\n",
       "</table>\n",
       "</div>"
      ],
      "text/plain": [
       "                                              actors  \\\n",
       "0  ['Robert De Niro', 'Jodie Foster', 'Albert Bro...   \n",
       "1  ['Graham Chapman', 'John Cleese', 'Eric Idle',...   \n",
       "2  ['Graham Chapman', 'John Cleese', 'Terry Gilli...   \n",
       "3  ['Ellen Burstyn', 'Linda Blair', 'Max von Sydo...   \n",
       "4  ['Graham Chapman', 'Michael Palin', 'Terry Jon...   \n",
       "\n",
       "                          directors                  genres  \\\n",
       "0               ['Martin Scorsese']      ['crime', 'drama']   \n",
       "1  ['Terry Jones', 'Terry Gilliam']   ['comedy', 'fantasy']   \n",
       "2                   ['Terry Jones']              ['comedy']   \n",
       "3              ['William Friedkin']              ['horror']   \n",
       "4                                []  ['comedy', 'european']   \n",
       "\n",
       "                             title  \n",
       "0                      Taxi Driver  \n",
       "1  Monty Python and the Holy Grail  \n",
       "2                    Life of Brian  \n",
       "3                     The Exorcist  \n",
       "4     Monty Python's Flying Circus  "
      ]
     },
     "execution_count": 15,
     "metadata": {},
     "output_type": "execute_result"
    }
   ],
   "source": [
    "df[columns].head()"
   ]
  },
  {
   "cell_type": "code",
   "execution_count": 16,
   "metadata": {},
   "outputs": [],
   "source": [
    "for column in columns:\n",
    "    df[column] = df[column].str.strip('[]').astype(str)"
   ]
  },
  {
   "cell_type": "code",
   "execution_count": 17,
   "metadata": {},
   "outputs": [
    {
     "data": {
      "text/plain": [
       "actors       0\n",
       "directors    0\n",
       "genres       0\n",
       "title        0\n",
       "dtype: int64"
      ]
     },
     "execution_count": 17,
     "metadata": {},
     "output_type": "execute_result"
    }
   ],
   "source": [
    "# check if any missing values in the important columns\n",
    "df[columns].isnull().sum()\n",
    "    "
   ]
  },
  {
   "cell_type": "code",
   "execution_count": 18,
   "metadata": {},
   "outputs": [],
   "source": [
    "df['title'] = df['title'].fillna(\"\")"
   ]
  },
  {
   "cell_type": "code",
   "execution_count": 19,
   "metadata": {},
   "outputs": [],
   "source": [
    "# create a function to combine values of important columns into one string\n",
    "def get_important_features(data):\n",
    "    important_features = []\n",
    "    for i in range(0, data.shape[0]):\n",
    "        important_features.append(data[\"actors\"][i]+\" \"+data[\"directors\"][i]+\" \"+data[\"genres\"][i]+\" \"+data[\"title\"][i])\n",
    "    return important_features"
   ]
  },
  {
   "cell_type": "code",
   "execution_count": 20,
   "metadata": {},
   "outputs": [],
   "source": [
    "# create column to hold combined string\n",
    "df[\"important_features\"] = get_important_features(df)"
   ]
  },
  {
   "cell_type": "code",
   "execution_count": 21,
   "metadata": {},
   "outputs": [
    {
     "data": {
      "text/html": [
       "<div>\n",
       "<style scoped>\n",
       "    .dataframe tbody tr th:only-of-type {\n",
       "        vertical-align: middle;\n",
       "    }\n",
       "\n",
       "    .dataframe tbody tr th {\n",
       "        vertical-align: top;\n",
       "    }\n",
       "\n",
       "    .dataframe thead th {\n",
       "        text-align: right;\n",
       "    }\n",
       "</style>\n",
       "<table border=\"1\" class=\"dataframe\">\n",
       "  <thead>\n",
       "    <tr style=\"text-align: right;\">\n",
       "      <th></th>\n",
       "      <th>id</th>\n",
       "      <th>title</th>\n",
       "      <th>type</th>\n",
       "      <th>description</th>\n",
       "      <th>release_year</th>\n",
       "      <th>age_certification</th>\n",
       "      <th>runtime</th>\n",
       "      <th>genres</th>\n",
       "      <th>production_countries</th>\n",
       "      <th>seasons</th>\n",
       "      <th>imdb_id</th>\n",
       "      <th>imdb_score</th>\n",
       "      <th>imdb_votes</th>\n",
       "      <th>tmdb_popularity</th>\n",
       "      <th>tmdb_score</th>\n",
       "      <th>actors</th>\n",
       "      <th>directors</th>\n",
       "      <th>important_features</th>\n",
       "    </tr>\n",
       "  </thead>\n",
       "  <tbody>\n",
       "    <tr>\n",
       "      <th>0</th>\n",
       "      <td>tm84618</td>\n",
       "      <td>Taxi Driver</td>\n",
       "      <td>MOVIE</td>\n",
       "      <td>A mentally unstable Vietnam War veteran works ...</td>\n",
       "      <td>1976</td>\n",
       "      <td>R</td>\n",
       "      <td>113</td>\n",
       "      <td>'crime', 'drama'</td>\n",
       "      <td>['US']</td>\n",
       "      <td>NaN</td>\n",
       "      <td>tt0075314</td>\n",
       "      <td>8.3</td>\n",
       "      <td>795222.0</td>\n",
       "      <td>27.612</td>\n",
       "      <td>8.2</td>\n",
       "      <td>'Robert De Niro', 'Jodie Foster', 'Albert Broo...</td>\n",
       "      <td>'Martin Scorsese'</td>\n",
       "      <td>'Robert De Niro', 'Jodie Foster', 'Albert Broo...</td>\n",
       "    </tr>\n",
       "    <tr>\n",
       "      <th>1</th>\n",
       "      <td>tm127384</td>\n",
       "      <td>Monty Python and the Holy Grail</td>\n",
       "      <td>MOVIE</td>\n",
       "      <td>King Arthur, accompanied by his squire, recrui...</td>\n",
       "      <td>1975</td>\n",
       "      <td>PG</td>\n",
       "      <td>91</td>\n",
       "      <td>'comedy', 'fantasy'</td>\n",
       "      <td>['GB']</td>\n",
       "      <td>NaN</td>\n",
       "      <td>tt0071853</td>\n",
       "      <td>8.2</td>\n",
       "      <td>530877.0</td>\n",
       "      <td>18.216</td>\n",
       "      <td>7.8</td>\n",
       "      <td>'Graham Chapman', 'John Cleese', 'Eric Idle', ...</td>\n",
       "      <td>'Terry Jones', 'Terry Gilliam'</td>\n",
       "      <td>'Graham Chapman', 'John Cleese', 'Eric Idle', ...</td>\n",
       "    </tr>\n",
       "    <tr>\n",
       "      <th>2</th>\n",
       "      <td>tm70993</td>\n",
       "      <td>Life of Brian</td>\n",
       "      <td>MOVIE</td>\n",
       "      <td>Brian Cohen is an average young Jewish man, bu...</td>\n",
       "      <td>1979</td>\n",
       "      <td>R</td>\n",
       "      <td>94</td>\n",
       "      <td>'comedy'</td>\n",
       "      <td>['GB']</td>\n",
       "      <td>NaN</td>\n",
       "      <td>tt0079470</td>\n",
       "      <td>8.0</td>\n",
       "      <td>392419.0</td>\n",
       "      <td>17.505</td>\n",
       "      <td>7.8</td>\n",
       "      <td>'Graham Chapman', 'John Cleese', 'Terry Gillia...</td>\n",
       "      <td>'Terry Jones'</td>\n",
       "      <td>'Graham Chapman', 'John Cleese', 'Terry Gillia...</td>\n",
       "    </tr>\n",
       "    <tr>\n",
       "      <th>3</th>\n",
       "      <td>tm190788</td>\n",
       "      <td>The Exorcist</td>\n",
       "      <td>MOVIE</td>\n",
       "      <td>12-year-old Regan MacNeil begins to adapt an e...</td>\n",
       "      <td>1973</td>\n",
       "      <td>R</td>\n",
       "      <td>133</td>\n",
       "      <td>'horror'</td>\n",
       "      <td>['US']</td>\n",
       "      <td>NaN</td>\n",
       "      <td>tt0070047</td>\n",
       "      <td>8.1</td>\n",
       "      <td>391942.0</td>\n",
       "      <td>95.337</td>\n",
       "      <td>7.7</td>\n",
       "      <td>'Ellen Burstyn', 'Linda Blair', 'Max von Sydow...</td>\n",
       "      <td>'William Friedkin'</td>\n",
       "      <td>'Ellen Burstyn', 'Linda Blair', 'Max von Sydow...</td>\n",
       "    </tr>\n",
       "    <tr>\n",
       "      <th>4</th>\n",
       "      <td>ts22164</td>\n",
       "      <td>Monty Python's Flying Circus</td>\n",
       "      <td>SHOW</td>\n",
       "      <td>A British sketch comedy series with the shows ...</td>\n",
       "      <td>1969</td>\n",
       "      <td>TV-14</td>\n",
       "      <td>30</td>\n",
       "      <td>'comedy', 'european'</td>\n",
       "      <td>['GB']</td>\n",
       "      <td>4.0</td>\n",
       "      <td>tt0063929</td>\n",
       "      <td>8.8</td>\n",
       "      <td>72895.0</td>\n",
       "      <td>12.919</td>\n",
       "      <td>8.3</td>\n",
       "      <td>'Graham Chapman', 'Michael Palin', 'Terry Jone...</td>\n",
       "      <td></td>\n",
       "      <td>'Graham Chapman', 'Michael Palin', 'Terry Jone...</td>\n",
       "    </tr>\n",
       "  </tbody>\n",
       "</table>\n",
       "</div>"
      ],
      "text/plain": [
       "         id                            title   type  \\\n",
       "0   tm84618                      Taxi Driver  MOVIE   \n",
       "1  tm127384  Monty Python and the Holy Grail  MOVIE   \n",
       "2   tm70993                    Life of Brian  MOVIE   \n",
       "3  tm190788                     The Exorcist  MOVIE   \n",
       "4   ts22164     Monty Python's Flying Circus   SHOW   \n",
       "\n",
       "                                         description  release_year  \\\n",
       "0  A mentally unstable Vietnam War veteran works ...          1976   \n",
       "1  King Arthur, accompanied by his squire, recrui...          1975   \n",
       "2  Brian Cohen is an average young Jewish man, bu...          1979   \n",
       "3  12-year-old Regan MacNeil begins to adapt an e...          1973   \n",
       "4  A British sketch comedy series with the shows ...          1969   \n",
       "\n",
       "  age_certification  runtime                genres production_countries  \\\n",
       "0                 R      113      'crime', 'drama'               ['US']   \n",
       "1                PG       91   'comedy', 'fantasy'               ['GB']   \n",
       "2                 R       94              'comedy'               ['GB']   \n",
       "3                 R      133              'horror'               ['US']   \n",
       "4             TV-14       30  'comedy', 'european'               ['GB']   \n",
       "\n",
       "   seasons    imdb_id  imdb_score  imdb_votes  tmdb_popularity  tmdb_score  \\\n",
       "0      NaN  tt0075314         8.3    795222.0           27.612         8.2   \n",
       "1      NaN  tt0071853         8.2    530877.0           18.216         7.8   \n",
       "2      NaN  tt0079470         8.0    392419.0           17.505         7.8   \n",
       "3      NaN  tt0070047         8.1    391942.0           95.337         7.7   \n",
       "4      4.0  tt0063929         8.8     72895.0           12.919         8.3   \n",
       "\n",
       "                                              actors  \\\n",
       "0  'Robert De Niro', 'Jodie Foster', 'Albert Broo...   \n",
       "1  'Graham Chapman', 'John Cleese', 'Eric Idle', ...   \n",
       "2  'Graham Chapman', 'John Cleese', 'Terry Gillia...   \n",
       "3  'Ellen Burstyn', 'Linda Blair', 'Max von Sydow...   \n",
       "4  'Graham Chapman', 'Michael Palin', 'Terry Jone...   \n",
       "\n",
       "                        directors  \\\n",
       "0               'Martin Scorsese'   \n",
       "1  'Terry Jones', 'Terry Gilliam'   \n",
       "2                   'Terry Jones'   \n",
       "3              'William Friedkin'   \n",
       "4                                   \n",
       "\n",
       "                                  important_features  \n",
       "0  'Robert De Niro', 'Jodie Foster', 'Albert Broo...  \n",
       "1  'Graham Chapman', 'John Cleese', 'Eric Idle', ...  \n",
       "2  'Graham Chapman', 'John Cleese', 'Terry Gillia...  \n",
       "3  'Ellen Burstyn', 'Linda Blair', 'Max von Sydow...  \n",
       "4  'Graham Chapman', 'Michael Palin', 'Terry Jone...  "
      ]
     },
     "execution_count": 21,
     "metadata": {},
     "output_type": "execute_result"
    }
   ],
   "source": [
    "df.head()"
   ]
  },
  {
   "cell_type": "code",
   "execution_count": 22,
   "metadata": {},
   "outputs": [
    {
     "data": {
      "text/plain": [
       "0    'Robert De Niro', 'Jodie Foster', 'Albert Broo...\n",
       "1    'Graham Chapman', 'John Cleese', 'Eric Idle', ...\n",
       "2    'Graham Chapman', 'John Cleese', 'Terry Gillia...\n",
       "3    'Ellen Burstyn', 'Linda Blair', 'Max von Sydow...\n",
       "4    'Graham Chapman', 'Michael Palin', 'Terry Jone...\n",
       "Name: important_features, dtype: object"
      ]
     },
     "execution_count": 22,
     "metadata": {},
     "output_type": "execute_result"
    }
   ],
   "source": [
    "df[\"important_features\"].head()"
   ]
  },
  {
   "cell_type": "markdown",
   "metadata": {},
   "source": [
    "# Recommendation System"
   ]
  },
  {
   "cell_type": "code",
   "execution_count": 23,
   "metadata": {},
   "outputs": [],
   "source": [
    "# convert text to matrix of token counts\n",
    "\n",
    "cm = CountVectorizer().fit_transform(df[\"important_features\"])\n"
   ]
  },
  {
   "cell_type": "code",
   "execution_count": 24,
   "metadata": {},
   "outputs": [],
   "source": [
    "# Get cosine matrix from the count matrix\n",
    "cs = cosine_similarity(cm)"
   ]
  },
  {
   "cell_type": "code",
   "execution_count": 25,
   "metadata": {},
   "outputs": [
    {
     "name": "stdout",
     "output_type": "stream",
     "text": [
      "[[1.         0.00819232 0.03665083 ... 0.         0.01796053 0.01581139]\n",
      " [0.00819232 1.         0.53045108 ... 0.         0.01471384 0.01295319]\n",
      " [0.03665083 0.53045108 1.         ... 0.         0.02194228 0.        ]\n",
      " ...\n",
      " [0.         0.         0.         ... 1.         0.         0.        ]\n",
      " [0.01796053 0.01471384 0.02194228 ... 0.         1.         0.        ]\n",
      " [0.01581139 0.01295319 0.         ... 0.         0.         1.        ]]\n"
     ]
    }
   ],
   "source": [
    "# print similarly matrix\n",
    "print(cs)"
   ]
  },
  {
   "cell_type": "code",
   "execution_count": 26,
   "metadata": {},
   "outputs": [
    {
     "data": {
      "text/plain": [
       "(5434, 5434)"
      ]
     },
     "execution_count": 26,
     "metadata": {},
     "output_type": "execute_result"
    }
   ],
   "source": [
    "# Get the shape of the cosine similarity matrix\n",
    "\n",
    "cs.shape"
   ]
  },
  {
   "cell_type": "code",
   "execution_count": 27,
   "metadata": {},
   "outputs": [],
   "source": [
    "#Construct a reverse map of indices and movie titles\n",
    "indices = pd.Series(df.index, index=df['title']).drop_duplicates()"
   ]
  },
  {
   "cell_type": "code",
   "execution_count": 28,
   "metadata": {},
   "outputs": [],
   "source": [
    "# Function that takes in movie title as input and outputs most similar movies\n",
    "def get_recommendations(title, cs=cs):\n",
    "    # Get the index of the movie that matches the title\n",
    "    idx = indices[title]\n",
    "\n",
    "    # Create a list of enumerations for the similarity scores\n",
    "    scores = list(enumerate(cs[idx]))\n",
    "\n",
    "    # Sort the movie list based on the similarity scores\n",
    "    sorted_scores = sorted(scores, key=lambda x: x[1], reverse=True)\n",
    "\n",
    "    # Get the scores of the 10 most similar movies\n",
    "    sorted_scores =  sorted_scores[1:11]\n",
    "\n",
    "    # Get the movie indices\n",
    "    movie_indices = [i[0] for i in sorted_scores]\n",
    "    \n",
    "    # Create a loop to print the ten most similar movies\n",
    "    print(\"The 10 most recommended movies to \", title , \"are:\\n\")\n",
    "    j=0\n",
    "    for i in sorted_scores:\n",
    "        movie_title = df[df.index==i[0]][\"title\"].values[0]\n",
    "        print(j+1, movie_title)\n",
    "        j = j+1\n",
    "        if j>9:\n",
    "            break"
   ]
  },
  {
   "cell_type": "code",
   "execution_count": 29,
   "metadata": {},
   "outputs": [
    {
     "name": "stdout",
     "output_type": "stream",
     "text": [
      "The 10 most recommended movies to  Fatherhood are:\n",
      "\n",
      "1 Legend\n",
      "2 Kevin Hart's Guide to Black History\n",
      "3 Julie's Greenroom\n",
      "4 She's Gotta Have It\n",
      "5 Horse Girl\n",
      "6 Good Sam\n",
      "7 BoJack Horseman\n",
      "8 Pee-wee's Big Holiday\n",
      "9 Harold & Kumar Go to White Castle\n",
      "10 Kevin Hart: Irresponsible\n"
     ]
    }
   ],
   "source": [
    "get_recommendations(\"Fatherhood\")"
   ]
  },
  {
   "cell_type": "code",
   "execution_count": 30,
   "metadata": {},
   "outputs": [
    {
     "name": "stdout",
     "output_type": "stream",
     "text": [
      "The 10 most recommended movies to  Inception are:\n",
      "\n",
      "1 Dunkirk\n",
      "2 Teenage Mutant Ninja Turtles II: The Secret of the Ooze\n",
      "3 Argo\n",
      "4 Blade: Trinity\n",
      "5 Alien Warfare\n",
      "6 Body of Lies\n",
      "7 LEGO DC Comics Super Heroes: Batman Be-Leaguered\n",
      "8 Top Gun\n",
      "9 The Imitation Game\n",
      "10 The Frozen Ground\n"
     ]
    }
   ],
   "source": [
    "get_recommendations(\"Inception\")"
   ]
  },
  {
   "cell_type": "code",
   "execution_count": 31,
   "metadata": {},
   "outputs": [
    {
     "name": "stdout",
     "output_type": "stream",
     "text": [
      "The 10 most recommended movies to  Dunkirk are:\n",
      "\n",
      "1 Inception\n",
      "2 Darkest Hour\n",
      "3 The King\n",
      "4 Talking Tom and Friends\n",
      "5 The Imitation Game\n",
      "6 LEGO DC Comics Super Heroes: Batman Be-Leaguered\n",
      "7 Django Unchained\n",
      "8 American Ultra\n",
      "9 The Irishman\n",
      "10 Top Gun\n"
     ]
    }
   ],
   "source": [
    "get_recommendations(\"Dunkirk\")"
   ]
  },
  {
   "cell_type": "code",
   "execution_count": 32,
   "metadata": {},
   "outputs": [
    {
     "name": "stdout",
     "output_type": "stream",
     "text": [
      "The 10 most recommended movies to  Darkest Hour are:\n",
      "\n",
      "1 The Irishman\n",
      "2 The Dig\n",
      "3 Saudi Arabia Uncovered\n",
      "4 Sherlock Holmes\n",
      "5 Contagion\n",
      "6 The Bourne Ultimatum\n",
      "7 Dunkirk\n",
      "8 In a Valley of Violence\n",
      "9 Public Enemies\n",
      "10 Les Misérables\n"
     ]
    }
   ],
   "source": [
    "get_recommendations(\"Darkest Hour\")"
   ]
  },
  {
   "cell_type": "code",
   "execution_count": null,
   "metadata": {},
   "outputs": [],
   "source": []
  }
 ],
 "metadata": {
  "kernelspec": {
   "display_name": "Python 3",
   "language": "python",
   "name": "python3"
  },
  "language_info": {
   "codemirror_mode": {
    "name": "ipython",
    "version": 3
   },
   "file_extension": ".py",
   "mimetype": "text/x-python",
   "name": "python",
   "nbconvert_exporter": "python",
   "pygments_lexer": "ipython3",
   "version": "3.7.4"
  }
 },
 "nbformat": 4,
 "nbformat_minor": 2
}
