{
 "cells": [
  {
   "cell_type": "markdown",
   "metadata": {},
   "source": [
    "# Netflix movies Recommender system"
   ]
  },
  {
   "cell_type": "markdown",
   "metadata": {},
   "source": [
    "## Objective"
   ]
  },
  {
   "cell_type": "markdown",
   "metadata": {},
   "source": [
    "- Build a content based recommender system for Netflix movies\n",
    "- Content based methods are based on similarity of item attributes and collaborative methods"
   ]
  },
  {
   "cell_type": "markdown",
   "metadata": {},
   "source": [
    "## Data Dictionary"
   ]
  },
  {
   "cell_type": "markdown",
   "metadata": {},
   "source": [
    "#### This dataset has two files containing the titles (titles.csv) and the cast (credits.csv) for the title.\n",
    "\n",
    "#### This dataset contains +5k unique titles on Netflix with 15 columns containing their information, including:\n",
    "\n",
    "- id: The title ID on JustWatch.\n",
    "- title: The name of the title.\n",
    "- show_type: TV show or movie.\n",
    "- description: A brief description.\n",
    "- release_year: The release year.\n",
    "- age_certification: The age certification.\n",
    "- runtime: The length of the episode (SHOW) or movie.\n",
    "- genres: A list of genres.\n",
    "- production_countries: A list of countries that produced the title.\n",
    "- seasons: Number of seasons if it's a SHOW.\n",
    "- imdb_id: The title ID on IMDB.\n",
    "- imdb_score: Score on IMDB.\n",
    "- imdb_votes: Votes on IMDB.\n",
    "- tmdb_popularity: Popularity on TMDB.\n",
    "- tmdb_score: Score on TMDB.\n",
    "\n",
    "#### And over +77k credits of actors and directors on Netflix titles with 5 columns containing their information, including:\n",
    "\n",
    "- person_ID: The person ID on JustWatch.\n",
    "- id: The title ID on JustWatch.\n",
    "- name: The actor or director's name.\n",
    "- character_name: The character name.\n",
    "- role: ACTOR or DIRECTOR."
   ]
  },
  {
   "cell_type": "code",
   "execution_count": 1,
   "metadata": {},
   "outputs": [],
   "source": [
    "# import the necessary libraries\n",
    "import pandas as pd\n",
    "import numpy as np\n",
    "import matplotlib.pyplot as plt\n",
    "import seaborn as sns\n",
    "from ast import literal_eval\n",
    "from sklearn.metrics.pairwise import cosine_similarity\n",
    "from sklearn.feature_extraction.text import CountVectorizer\n",
    "from sklearn.metrics.pairwise import linear_kernel\n",
    "from sklearn.feature_extraction.text import TfidfVectorizer\n",
    "import nltk\n",
    "from nltk.corpus import stopwords\n",
    "from nltk.stem.snowball import SnowballStemmer\n",
    "from nltk.stem import WordNetLemmatizer\n",
    "  \n",
    "\n",
    "# Other installed packages, use the following commanda\n",
    "#nltk.download('wordnet')\n",
    "#nltk.download('stopwords')"
   ]
  },
  {
   "cell_type": "code",
   "execution_count": 2,
   "metadata": {},
   "outputs": [],
   "source": [
    "#read the data\n",
    "df_titles = pd.read_csv(\"netflix/titles.csv\")\n",
    "df_credits = pd.read_csv(\"netflix/credits.csv\")"
   ]
  },
  {
   "cell_type": "markdown",
   "metadata": {},
   "source": [
    "## Exploratory Data Analysis"
   ]
  },
  {
   "cell_type": "code",
   "execution_count": 3,
   "metadata": {},
   "outputs": [
    {
     "data": {
      "text/html": [
       "<div>\n",
       "<style scoped>\n",
       "    .dataframe tbody tr th:only-of-type {\n",
       "        vertical-align: middle;\n",
       "    }\n",
       "\n",
       "    .dataframe tbody tr th {\n",
       "        vertical-align: top;\n",
       "    }\n",
       "\n",
       "    .dataframe thead th {\n",
       "        text-align: right;\n",
       "    }\n",
       "</style>\n",
       "<table border=\"1\" class=\"dataframe\">\n",
       "  <thead>\n",
       "    <tr style=\"text-align: right;\">\n",
       "      <th></th>\n",
       "      <th>id</th>\n",
       "      <th>title</th>\n",
       "      <th>type</th>\n",
       "      <th>description</th>\n",
       "      <th>release_year</th>\n",
       "      <th>age_certification</th>\n",
       "      <th>runtime</th>\n",
       "      <th>genres</th>\n",
       "      <th>production_countries</th>\n",
       "      <th>seasons</th>\n",
       "      <th>imdb_id</th>\n",
       "      <th>imdb_score</th>\n",
       "      <th>imdb_votes</th>\n",
       "      <th>tmdb_popularity</th>\n",
       "      <th>tmdb_score</th>\n",
       "    </tr>\n",
       "  </thead>\n",
       "  <tbody>\n",
       "    <tr>\n",
       "      <th>0</th>\n",
       "      <td>ts300399</td>\n",
       "      <td>Five Came Back: The Reference Films</td>\n",
       "      <td>SHOW</td>\n",
       "      <td>This collection includes 12 World War II-era p...</td>\n",
       "      <td>1945</td>\n",
       "      <td>TV-MA</td>\n",
       "      <td>48</td>\n",
       "      <td>['documentation']</td>\n",
       "      <td>['US']</td>\n",
       "      <td>1.0</td>\n",
       "      <td>NaN</td>\n",
       "      <td>NaN</td>\n",
       "      <td>NaN</td>\n",
       "      <td>0.600</td>\n",
       "      <td>NaN</td>\n",
       "    </tr>\n",
       "    <tr>\n",
       "      <th>1</th>\n",
       "      <td>tm84618</td>\n",
       "      <td>Taxi Driver</td>\n",
       "      <td>MOVIE</td>\n",
       "      <td>A mentally unstable Vietnam War veteran works ...</td>\n",
       "      <td>1976</td>\n",
       "      <td>R</td>\n",
       "      <td>113</td>\n",
       "      <td>['crime', 'drama']</td>\n",
       "      <td>['US']</td>\n",
       "      <td>NaN</td>\n",
       "      <td>tt0075314</td>\n",
       "      <td>8.3</td>\n",
       "      <td>795222.0</td>\n",
       "      <td>27.612</td>\n",
       "      <td>8.2</td>\n",
       "    </tr>\n",
       "    <tr>\n",
       "      <th>2</th>\n",
       "      <td>tm127384</td>\n",
       "      <td>Monty Python and the Holy Grail</td>\n",
       "      <td>MOVIE</td>\n",
       "      <td>King Arthur, accompanied by his squire, recrui...</td>\n",
       "      <td>1975</td>\n",
       "      <td>PG</td>\n",
       "      <td>91</td>\n",
       "      <td>['comedy', 'fantasy']</td>\n",
       "      <td>['GB']</td>\n",
       "      <td>NaN</td>\n",
       "      <td>tt0071853</td>\n",
       "      <td>8.2</td>\n",
       "      <td>530877.0</td>\n",
       "      <td>18.216</td>\n",
       "      <td>7.8</td>\n",
       "    </tr>\n",
       "    <tr>\n",
       "      <th>3</th>\n",
       "      <td>tm70993</td>\n",
       "      <td>Life of Brian</td>\n",
       "      <td>MOVIE</td>\n",
       "      <td>Brian Cohen is an average young Jewish man, bu...</td>\n",
       "      <td>1979</td>\n",
       "      <td>R</td>\n",
       "      <td>94</td>\n",
       "      <td>['comedy']</td>\n",
       "      <td>['GB']</td>\n",
       "      <td>NaN</td>\n",
       "      <td>tt0079470</td>\n",
       "      <td>8.0</td>\n",
       "      <td>392419.0</td>\n",
       "      <td>17.505</td>\n",
       "      <td>7.8</td>\n",
       "    </tr>\n",
       "    <tr>\n",
       "      <th>4</th>\n",
       "      <td>tm190788</td>\n",
       "      <td>The Exorcist</td>\n",
       "      <td>MOVIE</td>\n",
       "      <td>12-year-old Regan MacNeil begins to adapt an e...</td>\n",
       "      <td>1973</td>\n",
       "      <td>R</td>\n",
       "      <td>133</td>\n",
       "      <td>['horror']</td>\n",
       "      <td>['US']</td>\n",
       "      <td>NaN</td>\n",
       "      <td>tt0070047</td>\n",
       "      <td>8.1</td>\n",
       "      <td>391942.0</td>\n",
       "      <td>95.337</td>\n",
       "      <td>7.7</td>\n",
       "    </tr>\n",
       "  </tbody>\n",
       "</table>\n",
       "</div>"
      ],
      "text/plain": [
       "         id                                title   type  \\\n",
       "0  ts300399  Five Came Back: The Reference Films   SHOW   \n",
       "1   tm84618                          Taxi Driver  MOVIE   \n",
       "2  tm127384      Monty Python and the Holy Grail  MOVIE   \n",
       "3   tm70993                        Life of Brian  MOVIE   \n",
       "4  tm190788                         The Exorcist  MOVIE   \n",
       "\n",
       "                                         description  release_year  \\\n",
       "0  This collection includes 12 World War II-era p...          1945   \n",
       "1  A mentally unstable Vietnam War veteran works ...          1976   \n",
       "2  King Arthur, accompanied by his squire, recrui...          1975   \n",
       "3  Brian Cohen is an average young Jewish man, bu...          1979   \n",
       "4  12-year-old Regan MacNeil begins to adapt an e...          1973   \n",
       "\n",
       "  age_certification  runtime                 genres production_countries  \\\n",
       "0             TV-MA       48      ['documentation']               ['US']   \n",
       "1                 R      113     ['crime', 'drama']               ['US']   \n",
       "2                PG       91  ['comedy', 'fantasy']               ['GB']   \n",
       "3                 R       94             ['comedy']               ['GB']   \n",
       "4                 R      133             ['horror']               ['US']   \n",
       "\n",
       "   seasons    imdb_id  imdb_score  imdb_votes  tmdb_popularity  tmdb_score  \n",
       "0      1.0        NaN         NaN         NaN            0.600         NaN  \n",
       "1      NaN  tt0075314         8.3    795222.0           27.612         8.2  \n",
       "2      NaN  tt0071853         8.2    530877.0           18.216         7.8  \n",
       "3      NaN  tt0079470         8.0    392419.0           17.505         7.8  \n",
       "4      NaN  tt0070047         8.1    391942.0           95.337         7.7  "
      ]
     },
     "execution_count": 3,
     "metadata": {},
     "output_type": "execute_result"
    }
   ],
   "source": [
    "# View the first five rows of the titles dataset\n",
    "df_titles.head()"
   ]
  },
  {
   "cell_type": "code",
   "execution_count": 4,
   "metadata": {},
   "outputs": [
    {
     "data": {
      "text/html": [
       "<div>\n",
       "<style scoped>\n",
       "    .dataframe tbody tr th:only-of-type {\n",
       "        vertical-align: middle;\n",
       "    }\n",
       "\n",
       "    .dataframe tbody tr th {\n",
       "        vertical-align: top;\n",
       "    }\n",
       "\n",
       "    .dataframe thead th {\n",
       "        text-align: right;\n",
       "    }\n",
       "</style>\n",
       "<table border=\"1\" class=\"dataframe\">\n",
       "  <thead>\n",
       "    <tr style=\"text-align: right;\">\n",
       "      <th></th>\n",
       "      <th>person_id</th>\n",
       "      <th>id</th>\n",
       "      <th>name</th>\n",
       "      <th>character</th>\n",
       "      <th>role</th>\n",
       "    </tr>\n",
       "  </thead>\n",
       "  <tbody>\n",
       "    <tr>\n",
       "      <th>0</th>\n",
       "      <td>3748</td>\n",
       "      <td>tm84618</td>\n",
       "      <td>Robert De Niro</td>\n",
       "      <td>Travis Bickle</td>\n",
       "      <td>ACTOR</td>\n",
       "    </tr>\n",
       "    <tr>\n",
       "      <th>1</th>\n",
       "      <td>14658</td>\n",
       "      <td>tm84618</td>\n",
       "      <td>Jodie Foster</td>\n",
       "      <td>Iris Steensma</td>\n",
       "      <td>ACTOR</td>\n",
       "    </tr>\n",
       "    <tr>\n",
       "      <th>2</th>\n",
       "      <td>7064</td>\n",
       "      <td>tm84618</td>\n",
       "      <td>Albert Brooks</td>\n",
       "      <td>Tom</td>\n",
       "      <td>ACTOR</td>\n",
       "    </tr>\n",
       "    <tr>\n",
       "      <th>3</th>\n",
       "      <td>3739</td>\n",
       "      <td>tm84618</td>\n",
       "      <td>Harvey Keitel</td>\n",
       "      <td>Matthew 'Sport' Higgins</td>\n",
       "      <td>ACTOR</td>\n",
       "    </tr>\n",
       "    <tr>\n",
       "      <th>4</th>\n",
       "      <td>48933</td>\n",
       "      <td>tm84618</td>\n",
       "      <td>Cybill Shepherd</td>\n",
       "      <td>Betsy</td>\n",
       "      <td>ACTOR</td>\n",
       "    </tr>\n",
       "  </tbody>\n",
       "</table>\n",
       "</div>"
      ],
      "text/plain": [
       "   person_id       id             name                character   role\n",
       "0       3748  tm84618   Robert De Niro            Travis Bickle  ACTOR\n",
       "1      14658  tm84618     Jodie Foster            Iris Steensma  ACTOR\n",
       "2       7064  tm84618    Albert Brooks                      Tom  ACTOR\n",
       "3       3739  tm84618    Harvey Keitel  Matthew 'Sport' Higgins  ACTOR\n",
       "4      48933  tm84618  Cybill Shepherd                    Betsy  ACTOR"
      ]
     },
     "execution_count": 4,
     "metadata": {},
     "output_type": "execute_result"
    }
   ],
   "source": [
    "# view the first five rows of the credits data set\n",
    "df_credits.head()"
   ]
  },
  {
   "cell_type": "code",
   "execution_count": 5,
   "metadata": {},
   "outputs": [
    {
     "name": "stdout",
     "output_type": "stream",
     "text": [
      "There are 5806 rows and 15 columns in the titles dataset\n"
     ]
    }
   ],
   "source": [
    "# view the dimensions of the titles data set\n",
    "print(f\"There are {df_titles.shape[0]} rows and {df_titles.shape[1]} columns in the titles dataset\")"
   ]
  },
  {
   "cell_type": "code",
   "execution_count": 6,
   "metadata": {},
   "outputs": [
    {
     "name": "stdout",
     "output_type": "stream",
     "text": [
      "There are 77213 rows and 5 columns in the credits dataset\n"
     ]
    }
   ],
   "source": [
    "# view the dimensions of the titles data set\n",
    "print(f\"There are {df_credits.shape[0]} rows and {df_credits.shape[1]} columns in the credits dataset\")"
   ]
  },
  {
   "cell_type": "code",
   "execution_count": 7,
   "metadata": {},
   "outputs": [
    {
     "data": {
      "text/plain": [
       "id                         0\n",
       "title                      1\n",
       "type                       0\n",
       "description               18\n",
       "release_year               0\n",
       "age_certification       2610\n",
       "runtime                    0\n",
       "genres                     0\n",
       "production_countries       0\n",
       "seasons                 3759\n",
       "imdb_id                  444\n",
       "imdb_score               523\n",
       "imdb_votes               539\n",
       "tmdb_popularity           94\n",
       "tmdb_score               318\n",
       "dtype: int64"
      ]
     },
     "execution_count": 7,
     "metadata": {},
     "output_type": "execute_result"
    }
   ],
   "source": [
    "# check for missing values\n",
    "df_titles.isnull().sum()"
   ]
  },
  {
   "cell_type": "markdown",
   "metadata": {},
   "source": [
    "## Merge the datasets"
   ]
  },
  {
   "cell_type": "code",
   "execution_count": 8,
   "metadata": {},
   "outputs": [],
   "source": [
    "unique_ids = df_credits['id'].unique()\n",
    "ids = df_credits['id']\n",
    "roles = df_credits['role']\n",
    "names = df_credits['name']\n",
    "\n",
    "# List save actors and directors\n",
    "actors = []\n",
    "directors = []\n",
    "\n",
    "start = 0\n",
    "\n",
    "for id_unique in unique_ids:\n",
    "    act = []\n",
    "    director = []\n",
    "    for i in range(start, len(ids)):\n",
    "        if (ids[i] == id_unique):\n",
    "            if roles[i] == 'ACTOR':\n",
    "                act.append(names[i])\n",
    "            elif roles[i] == 'DIRECTOR':\n",
    "                director.append(names[i])\n",
    "        else:\n",
    "            start = i\n",
    "            break\n",
    "    actors.append(act)\n",
    "    directors.append(director)"
   ]
  },
  {
   "cell_type": "code",
   "execution_count": 9,
   "metadata": {},
   "outputs": [],
   "source": [
    "data = {'id': unique_ids, 'actors': actors, 'directors': directors}\n",
    "new_df = pd.DataFrame(data = data)"
   ]
  },
  {
   "cell_type": "code",
   "execution_count": 10,
   "metadata": {},
   "outputs": [
    {
     "data": {
      "text/plain": [
       "(5434, 3)"
      ]
     },
     "execution_count": 10,
     "metadata": {},
     "output_type": "execute_result"
    }
   ],
   "source": [
    "new_df.shape"
   ]
  },
  {
   "cell_type": "code",
   "execution_count": 11,
   "metadata": {},
   "outputs": [],
   "source": [
    "# merge on id\n",
    "df = df_titles.merge(new_df, how='inner', on='id')\n",
    "\n",
    "# remove the string\n",
    "df['genres'] = df['genres'].apply(literal_eval)"
   ]
  },
  {
   "cell_type": "code",
   "execution_count": 12,
   "metadata": {},
   "outputs": [
    {
     "data": {
      "text/plain": [
       "(5434, 17)"
      ]
     },
     "execution_count": 12,
     "metadata": {},
     "output_type": "execute_result"
    }
   ],
   "source": [
    "# shape of the resulting data set\n",
    "df.shape"
   ]
  },
  {
   "cell_type": "code",
   "execution_count": 13,
   "metadata": {},
   "outputs": [
    {
     "data": {
      "text/html": [
       "<div>\n",
       "<style scoped>\n",
       "    .dataframe tbody tr th:only-of-type {\n",
       "        vertical-align: middle;\n",
       "    }\n",
       "\n",
       "    .dataframe tbody tr th {\n",
       "        vertical-align: top;\n",
       "    }\n",
       "\n",
       "    .dataframe thead th {\n",
       "        text-align: right;\n",
       "    }\n",
       "</style>\n",
       "<table border=\"1\" class=\"dataframe\">\n",
       "  <thead>\n",
       "    <tr style=\"text-align: right;\">\n",
       "      <th></th>\n",
       "      <th>id</th>\n",
       "      <th>title</th>\n",
       "      <th>type</th>\n",
       "      <th>description</th>\n",
       "      <th>release_year</th>\n",
       "      <th>age_certification</th>\n",
       "      <th>runtime</th>\n",
       "      <th>genres</th>\n",
       "      <th>production_countries</th>\n",
       "      <th>seasons</th>\n",
       "      <th>imdb_id</th>\n",
       "      <th>imdb_score</th>\n",
       "      <th>imdb_votes</th>\n",
       "      <th>tmdb_popularity</th>\n",
       "      <th>tmdb_score</th>\n",
       "      <th>actors</th>\n",
       "      <th>directors</th>\n",
       "    </tr>\n",
       "  </thead>\n",
       "  <tbody>\n",
       "    <tr>\n",
       "      <th>0</th>\n",
       "      <td>tm84618</td>\n",
       "      <td>Taxi Driver</td>\n",
       "      <td>MOVIE</td>\n",
       "      <td>A mentally unstable Vietnam War veteran works ...</td>\n",
       "      <td>1976</td>\n",
       "      <td>R</td>\n",
       "      <td>113</td>\n",
       "      <td>[crime, drama]</td>\n",
       "      <td>['US']</td>\n",
       "      <td>NaN</td>\n",
       "      <td>tt0075314</td>\n",
       "      <td>8.3</td>\n",
       "      <td>795222.0</td>\n",
       "      <td>27.612</td>\n",
       "      <td>8.2</td>\n",
       "      <td>[Robert De Niro, Jodie Foster, Albert Brooks, ...</td>\n",
       "      <td>[Martin Scorsese]</td>\n",
       "    </tr>\n",
       "    <tr>\n",
       "      <th>1</th>\n",
       "      <td>tm127384</td>\n",
       "      <td>Monty Python and the Holy Grail</td>\n",
       "      <td>MOVIE</td>\n",
       "      <td>King Arthur, accompanied by his squire, recrui...</td>\n",
       "      <td>1975</td>\n",
       "      <td>PG</td>\n",
       "      <td>91</td>\n",
       "      <td>[comedy, fantasy]</td>\n",
       "      <td>['GB']</td>\n",
       "      <td>NaN</td>\n",
       "      <td>tt0071853</td>\n",
       "      <td>8.2</td>\n",
       "      <td>530877.0</td>\n",
       "      <td>18.216</td>\n",
       "      <td>7.8</td>\n",
       "      <td>[Graham Chapman, John Cleese, Eric Idle, Terry...</td>\n",
       "      <td>[Terry Jones, Terry Gilliam]</td>\n",
       "    </tr>\n",
       "    <tr>\n",
       "      <th>2</th>\n",
       "      <td>tm70993</td>\n",
       "      <td>Life of Brian</td>\n",
       "      <td>MOVIE</td>\n",
       "      <td>Brian Cohen is an average young Jewish man, bu...</td>\n",
       "      <td>1979</td>\n",
       "      <td>R</td>\n",
       "      <td>94</td>\n",
       "      <td>[comedy]</td>\n",
       "      <td>['GB']</td>\n",
       "      <td>NaN</td>\n",
       "      <td>tt0079470</td>\n",
       "      <td>8.0</td>\n",
       "      <td>392419.0</td>\n",
       "      <td>17.505</td>\n",
       "      <td>7.8</td>\n",
       "      <td>[Graham Chapman, John Cleese, Terry Gilliam, E...</td>\n",
       "      <td>[Terry Jones]</td>\n",
       "    </tr>\n",
       "    <tr>\n",
       "      <th>3</th>\n",
       "      <td>tm190788</td>\n",
       "      <td>The Exorcist</td>\n",
       "      <td>MOVIE</td>\n",
       "      <td>12-year-old Regan MacNeil begins to adapt an e...</td>\n",
       "      <td>1973</td>\n",
       "      <td>R</td>\n",
       "      <td>133</td>\n",
       "      <td>[horror]</td>\n",
       "      <td>['US']</td>\n",
       "      <td>NaN</td>\n",
       "      <td>tt0070047</td>\n",
       "      <td>8.1</td>\n",
       "      <td>391942.0</td>\n",
       "      <td>95.337</td>\n",
       "      <td>7.7</td>\n",
       "      <td>[Ellen Burstyn, Linda Blair, Max von Sydow, Le...</td>\n",
       "      <td>[William Friedkin]</td>\n",
       "    </tr>\n",
       "    <tr>\n",
       "      <th>4</th>\n",
       "      <td>ts22164</td>\n",
       "      <td>Monty Python's Flying Circus</td>\n",
       "      <td>SHOW</td>\n",
       "      <td>A British sketch comedy series with the shows ...</td>\n",
       "      <td>1969</td>\n",
       "      <td>TV-14</td>\n",
       "      <td>30</td>\n",
       "      <td>[comedy, european]</td>\n",
       "      <td>['GB']</td>\n",
       "      <td>4.0</td>\n",
       "      <td>tt0063929</td>\n",
       "      <td>8.8</td>\n",
       "      <td>72895.0</td>\n",
       "      <td>12.919</td>\n",
       "      <td>8.3</td>\n",
       "      <td>[Graham Chapman, Michael Palin, Terry Jones, E...</td>\n",
       "      <td>[]</td>\n",
       "    </tr>\n",
       "  </tbody>\n",
       "</table>\n",
       "</div>"
      ],
      "text/plain": [
       "         id                            title   type  \\\n",
       "0   tm84618                      Taxi Driver  MOVIE   \n",
       "1  tm127384  Monty Python and the Holy Grail  MOVIE   \n",
       "2   tm70993                    Life of Brian  MOVIE   \n",
       "3  tm190788                     The Exorcist  MOVIE   \n",
       "4   ts22164     Monty Python's Flying Circus   SHOW   \n",
       "\n",
       "                                         description  release_year  \\\n",
       "0  A mentally unstable Vietnam War veteran works ...          1976   \n",
       "1  King Arthur, accompanied by his squire, recrui...          1975   \n",
       "2  Brian Cohen is an average young Jewish man, bu...          1979   \n",
       "3  12-year-old Regan MacNeil begins to adapt an e...          1973   \n",
       "4  A British sketch comedy series with the shows ...          1969   \n",
       "\n",
       "  age_certification  runtime              genres production_countries  \\\n",
       "0                 R      113      [crime, drama]               ['US']   \n",
       "1                PG       91   [comedy, fantasy]               ['GB']   \n",
       "2                 R       94            [comedy]               ['GB']   \n",
       "3                 R      133            [horror]               ['US']   \n",
       "4             TV-14       30  [comedy, european]               ['GB']   \n",
       "\n",
       "   seasons    imdb_id  imdb_score  imdb_votes  tmdb_popularity  tmdb_score  \\\n",
       "0      NaN  tt0075314         8.3    795222.0           27.612         8.2   \n",
       "1      NaN  tt0071853         8.2    530877.0           18.216         7.8   \n",
       "2      NaN  tt0079470         8.0    392419.0           17.505         7.8   \n",
       "3      NaN  tt0070047         8.1    391942.0           95.337         7.7   \n",
       "4      4.0  tt0063929         8.8     72895.0           12.919         8.3   \n",
       "\n",
       "                                              actors  \\\n",
       "0  [Robert De Niro, Jodie Foster, Albert Brooks, ...   \n",
       "1  [Graham Chapman, John Cleese, Eric Idle, Terry...   \n",
       "2  [Graham Chapman, John Cleese, Terry Gilliam, E...   \n",
       "3  [Ellen Burstyn, Linda Blair, Max von Sydow, Le...   \n",
       "4  [Graham Chapman, Michael Palin, Terry Jones, E...   \n",
       "\n",
       "                      directors  \n",
       "0             [Martin Scorsese]  \n",
       "1  [Terry Jones, Terry Gilliam]  \n",
       "2                 [Terry Jones]  \n",
       "3            [William Friedkin]  \n",
       "4                            []  "
      ]
     },
     "execution_count": 13,
     "metadata": {},
     "output_type": "execute_result"
    }
   ],
   "source": [
    "# view the five first rows of the merged data set\n",
    "df.head()"
   ]
  },
  {
   "cell_type": "code",
   "execution_count": 14,
   "metadata": {},
   "outputs": [],
   "source": [
    "# create important columns for the recommender system\n",
    "columns = [\"actors\", \"directors\", \"genres\", \"title\", \"description\"]"
   ]
  },
  {
   "cell_type": "code",
   "execution_count": 15,
   "metadata": {},
   "outputs": [
    {
     "data": {
      "text/plain": [
       "id                       object\n",
       "title                    object\n",
       "type                     object\n",
       "description              object\n",
       "release_year              int64\n",
       "age_certification        object\n",
       "runtime                   int64\n",
       "genres                   object\n",
       "production_countries     object\n",
       "seasons                 float64\n",
       "imdb_id                  object\n",
       "imdb_score              float64\n",
       "imdb_votes              float64\n",
       "tmdb_popularity         float64\n",
       "tmdb_score              float64\n",
       "actors                   object\n",
       "directors                object\n",
       "dtype: object"
      ]
     },
     "execution_count": 15,
     "metadata": {},
     "output_type": "execute_result"
    }
   ],
   "source": [
    "# check the data types\n",
    "df.dtypes"
   ]
  },
  {
   "cell_type": "code",
   "execution_count": 16,
   "metadata": {},
   "outputs": [
    {
     "data": {
      "text/html": [
       "<div>\n",
       "<style scoped>\n",
       "    .dataframe tbody tr th:only-of-type {\n",
       "        vertical-align: middle;\n",
       "    }\n",
       "\n",
       "    .dataframe tbody tr th {\n",
       "        vertical-align: top;\n",
       "    }\n",
       "\n",
       "    .dataframe thead th {\n",
       "        text-align: right;\n",
       "    }\n",
       "</style>\n",
       "<table border=\"1\" class=\"dataframe\">\n",
       "  <thead>\n",
       "    <tr style=\"text-align: right;\">\n",
       "      <th></th>\n",
       "      <th>count</th>\n",
       "      <th>unique</th>\n",
       "      <th>top</th>\n",
       "      <th>freq</th>\n",
       "      <th>mean</th>\n",
       "      <th>std</th>\n",
       "      <th>min</th>\n",
       "      <th>25%</th>\n",
       "      <th>50%</th>\n",
       "      <th>75%</th>\n",
       "      <th>max</th>\n",
       "    </tr>\n",
       "  </thead>\n",
       "  <tbody>\n",
       "    <tr>\n",
       "      <th>id</th>\n",
       "      <td>5434</td>\n",
       "      <td>5434</td>\n",
       "      <td>tm84618</td>\n",
       "      <td>1</td>\n",
       "      <td>NaN</td>\n",
       "      <td>NaN</td>\n",
       "      <td>NaN</td>\n",
       "      <td>NaN</td>\n",
       "      <td>NaN</td>\n",
       "      <td>NaN</td>\n",
       "      <td>NaN</td>\n",
       "    </tr>\n",
       "    <tr>\n",
       "      <th>title</th>\n",
       "      <td>5433</td>\n",
       "      <td>5386</td>\n",
       "      <td>Connected</td>\n",
       "      <td>3</td>\n",
       "      <td>NaN</td>\n",
       "      <td>NaN</td>\n",
       "      <td>NaN</td>\n",
       "      <td>NaN</td>\n",
       "      <td>NaN</td>\n",
       "      <td>NaN</td>\n",
       "      <td>NaN</td>\n",
       "    </tr>\n",
       "    <tr>\n",
       "      <th>type</th>\n",
       "      <td>5434</td>\n",
       "      <td>2</td>\n",
       "      <td>MOVIE</td>\n",
       "      <td>3658</td>\n",
       "      <td>NaN</td>\n",
       "      <td>NaN</td>\n",
       "      <td>NaN</td>\n",
       "      <td>NaN</td>\n",
       "      <td>NaN</td>\n",
       "      <td>NaN</td>\n",
       "      <td>NaN</td>\n",
       "    </tr>\n",
       "    <tr>\n",
       "      <th>description</th>\n",
       "      <td>5424</td>\n",
       "      <td>5421</td>\n",
       "      <td>Away from school, during the winter holidays, ...</td>\n",
       "      <td>2</td>\n",
       "      <td>NaN</td>\n",
       "      <td>NaN</td>\n",
       "      <td>NaN</td>\n",
       "      <td>NaN</td>\n",
       "      <td>NaN</td>\n",
       "      <td>NaN</td>\n",
       "      <td>NaN</td>\n",
       "    </tr>\n",
       "    <tr>\n",
       "      <th>release_year</th>\n",
       "      <td>5434.0</td>\n",
       "      <td>NaN</td>\n",
       "      <td>NaN</td>\n",
       "      <td>NaN</td>\n",
       "      <td>2015.929886</td>\n",
       "      <td>7.410901</td>\n",
       "      <td>1953.0</td>\n",
       "      <td>2015.0</td>\n",
       "      <td>2018.0</td>\n",
       "      <td>2020.0</td>\n",
       "      <td>2022.0</td>\n",
       "    </tr>\n",
       "    <tr>\n",
       "      <th>age_certification</th>\n",
       "      <td>2951</td>\n",
       "      <td>11</td>\n",
       "      <td>TV-MA</td>\n",
       "      <td>757</td>\n",
       "      <td>NaN</td>\n",
       "      <td>NaN</td>\n",
       "      <td>NaN</td>\n",
       "      <td>NaN</td>\n",
       "      <td>NaN</td>\n",
       "      <td>NaN</td>\n",
       "      <td>NaN</td>\n",
       "    </tr>\n",
       "    <tr>\n",
       "      <th>runtime</th>\n",
       "      <td>5434.0</td>\n",
       "      <td>NaN</td>\n",
       "      <td>NaN</td>\n",
       "      <td>NaN</td>\n",
       "      <td>79.869157</td>\n",
       "      <td>38.979547</td>\n",
       "      <td>0.0</td>\n",
       "      <td>46.0</td>\n",
       "      <td>87.0</td>\n",
       "      <td>106.0</td>\n",
       "      <td>251.0</td>\n",
       "    </tr>\n",
       "    <tr>\n",
       "      <th>genres</th>\n",
       "      <td>5434</td>\n",
       "      <td>1577</td>\n",
       "      <td>[comedy]</td>\n",
       "      <td>491</td>\n",
       "      <td>NaN</td>\n",
       "      <td>NaN</td>\n",
       "      <td>NaN</td>\n",
       "      <td>NaN</td>\n",
       "      <td>NaN</td>\n",
       "      <td>NaN</td>\n",
       "      <td>NaN</td>\n",
       "    </tr>\n",
       "    <tr>\n",
       "      <th>production_countries</th>\n",
       "      <td>5434</td>\n",
       "      <td>445</td>\n",
       "      <td>['US']</td>\n",
       "      <td>1827</td>\n",
       "      <td>NaN</td>\n",
       "      <td>NaN</td>\n",
       "      <td>NaN</td>\n",
       "      <td>NaN</td>\n",
       "      <td>NaN</td>\n",
       "      <td>NaN</td>\n",
       "      <td>NaN</td>\n",
       "    </tr>\n",
       "    <tr>\n",
       "      <th>seasons</th>\n",
       "      <td>1776.0</td>\n",
       "      <td>NaN</td>\n",
       "      <td>NaN</td>\n",
       "      <td>NaN</td>\n",
       "      <td>2.234234</td>\n",
       "      <td>2.760135</td>\n",
       "      <td>1.0</td>\n",
       "      <td>1.0</td>\n",
       "      <td>1.0</td>\n",
       "      <td>3.0</td>\n",
       "      <td>42.0</td>\n",
       "    </tr>\n",
       "    <tr>\n",
       "      <th>imdb_id</th>\n",
       "      <td>5024</td>\n",
       "      <td>5024</td>\n",
       "      <td>tt0075314</td>\n",
       "      <td>1</td>\n",
       "      <td>NaN</td>\n",
       "      <td>NaN</td>\n",
       "      <td>NaN</td>\n",
       "      <td>NaN</td>\n",
       "      <td>NaN</td>\n",
       "      <td>NaN</td>\n",
       "      <td>NaN</td>\n",
       "    </tr>\n",
       "    <tr>\n",
       "      <th>imdb_score</th>\n",
       "      <td>4963.0</td>\n",
       "      <td>NaN</td>\n",
       "      <td>NaN</td>\n",
       "      <td>NaN</td>\n",
       "      <td>6.527866</td>\n",
       "      <td>1.152695</td>\n",
       "      <td>1.5</td>\n",
       "      <td>5.8</td>\n",
       "      <td>6.6</td>\n",
       "      <td>7.35</td>\n",
       "      <td>9.5</td>\n",
       "    </tr>\n",
       "    <tr>\n",
       "      <th>imdb_votes</th>\n",
       "      <td>4949.0</td>\n",
       "      <td>NaN</td>\n",
       "      <td>NaN</td>\n",
       "      <td>NaN</td>\n",
       "      <td>24675.549808</td>\n",
       "      <td>89393.065863</td>\n",
       "      <td>5.0</td>\n",
       "      <td>610.0</td>\n",
       "      <td>2592.0</td>\n",
       "      <td>11329.0</td>\n",
       "      <td>2268288.0</td>\n",
       "    </tr>\n",
       "    <tr>\n",
       "      <th>tmdb_popularity</th>\n",
       "      <td>5432.0</td>\n",
       "      <td>NaN</td>\n",
       "      <td>NaN</td>\n",
       "      <td>NaN</td>\n",
       "      <td>23.344596</td>\n",
       "      <td>70.413535</td>\n",
       "      <td>0.6</td>\n",
       "      <td>3.3295</td>\n",
       "      <td>7.8555</td>\n",
       "      <td>18.55475</td>\n",
       "      <td>1823.374</td>\n",
       "    </tr>\n",
       "    <tr>\n",
       "      <th>tmdb_score</th>\n",
       "      <td>5259.0</td>\n",
       "      <td>NaN</td>\n",
       "      <td>NaN</td>\n",
       "      <td>NaN</td>\n",
       "      <td>6.792508</td>\n",
       "      <td>1.138112</td>\n",
       "      <td>1.0</td>\n",
       "      <td>6.1</td>\n",
       "      <td>6.9</td>\n",
       "      <td>7.5</td>\n",
       "      <td>10.0</td>\n",
       "    </tr>\n",
       "    <tr>\n",
       "      <th>actors</th>\n",
       "      <td>5434</td>\n",
       "      <td>5157</td>\n",
       "      <td>[]</td>\n",
       "      <td>142</td>\n",
       "      <td>NaN</td>\n",
       "      <td>NaN</td>\n",
       "      <td>NaN</td>\n",
       "      <td>NaN</td>\n",
       "      <td>NaN</td>\n",
       "      <td>NaN</td>\n",
       "      <td>NaN</td>\n",
       "    </tr>\n",
       "    <tr>\n",
       "      <th>directors</th>\n",
       "      <td>5434</td>\n",
       "      <td>3103</td>\n",
       "      <td>[]</td>\n",
       "      <td>1421</td>\n",
       "      <td>NaN</td>\n",
       "      <td>NaN</td>\n",
       "      <td>NaN</td>\n",
       "      <td>NaN</td>\n",
       "      <td>NaN</td>\n",
       "      <td>NaN</td>\n",
       "      <td>NaN</td>\n",
       "    </tr>\n",
       "  </tbody>\n",
       "</table>\n",
       "</div>"
      ],
      "text/plain": [
       "                       count unique  \\\n",
       "id                      5434   5434   \n",
       "title                   5433   5386   \n",
       "type                    5434      2   \n",
       "description             5424   5421   \n",
       "release_year          5434.0    NaN   \n",
       "age_certification       2951     11   \n",
       "runtime               5434.0    NaN   \n",
       "genres                  5434   1577   \n",
       "production_countries    5434    445   \n",
       "seasons               1776.0    NaN   \n",
       "imdb_id                 5024   5024   \n",
       "imdb_score            4963.0    NaN   \n",
       "imdb_votes            4949.0    NaN   \n",
       "tmdb_popularity       5432.0    NaN   \n",
       "tmdb_score            5259.0    NaN   \n",
       "actors                  5434   5157   \n",
       "directors               5434   3103   \n",
       "\n",
       "                                                                    top  freq  \\\n",
       "id                                                              tm84618     1   \n",
       "title                                                         Connected     3   \n",
       "type                                                              MOVIE  3658   \n",
       "description           Away from school, during the winter holidays, ...     2   \n",
       "release_year                                                        NaN   NaN   \n",
       "age_certification                                                 TV-MA   757   \n",
       "runtime                                                             NaN   NaN   \n",
       "genres                                                         [comedy]   491   \n",
       "production_countries                                             ['US']  1827   \n",
       "seasons                                                             NaN   NaN   \n",
       "imdb_id                                                       tt0075314     1   \n",
       "imdb_score                                                          NaN   NaN   \n",
       "imdb_votes                                                          NaN   NaN   \n",
       "tmdb_popularity                                                     NaN   NaN   \n",
       "tmdb_score                                                          NaN   NaN   \n",
       "actors                                                               []   142   \n",
       "directors                                                            []  1421   \n",
       "\n",
       "                              mean           std     min     25%     50%  \\\n",
       "id                             NaN           NaN     NaN     NaN     NaN   \n",
       "title                          NaN           NaN     NaN     NaN     NaN   \n",
       "type                           NaN           NaN     NaN     NaN     NaN   \n",
       "description                    NaN           NaN     NaN     NaN     NaN   \n",
       "release_year           2015.929886      7.410901  1953.0  2015.0  2018.0   \n",
       "age_certification              NaN           NaN     NaN     NaN     NaN   \n",
       "runtime                  79.869157     38.979547     0.0    46.0    87.0   \n",
       "genres                         NaN           NaN     NaN     NaN     NaN   \n",
       "production_countries           NaN           NaN     NaN     NaN     NaN   \n",
       "seasons                   2.234234      2.760135     1.0     1.0     1.0   \n",
       "imdb_id                        NaN           NaN     NaN     NaN     NaN   \n",
       "imdb_score                6.527866      1.152695     1.5     5.8     6.6   \n",
       "imdb_votes            24675.549808  89393.065863     5.0   610.0  2592.0   \n",
       "tmdb_popularity          23.344596     70.413535     0.6  3.3295  7.8555   \n",
       "tmdb_score                6.792508      1.138112     1.0     6.1     6.9   \n",
       "actors                         NaN           NaN     NaN     NaN     NaN   \n",
       "directors                      NaN           NaN     NaN     NaN     NaN   \n",
       "\n",
       "                           75%        max  \n",
       "id                         NaN        NaN  \n",
       "title                      NaN        NaN  \n",
       "type                       NaN        NaN  \n",
       "description                NaN        NaN  \n",
       "release_year            2020.0     2022.0  \n",
       "age_certification          NaN        NaN  \n",
       "runtime                  106.0      251.0  \n",
       "genres                     NaN        NaN  \n",
       "production_countries       NaN        NaN  \n",
       "seasons                    3.0       42.0  \n",
       "imdb_id                    NaN        NaN  \n",
       "imdb_score                7.35        9.5  \n",
       "imdb_votes             11329.0  2268288.0  \n",
       "tmdb_popularity       18.55475   1823.374  \n",
       "tmdb_score                 7.5       10.0  \n",
       "actors                     NaN        NaN  \n",
       "directors                  NaN        NaN  "
      ]
     },
     "execution_count": 16,
     "metadata": {},
     "output_type": "execute_result"
    }
   ],
   "source": [
    "# statistical summary of the merged data set\n",
    "\n",
    "df.describe(include = \"all\").T"
   ]
  },
  {
   "cell_type": "code",
   "execution_count": 17,
   "metadata": {},
   "outputs": [
    {
     "data": {
      "text/plain": [
       "actors          0\n",
       "directors       0\n",
       "genres          0\n",
       "title           1\n",
       "description    10\n",
       "dtype: int64"
      ]
     },
     "execution_count": 17,
     "metadata": {},
     "output_type": "execute_result"
    }
   ],
   "source": [
    "# check missing values\n",
    "df[columns].isnull().sum()"
   ]
  },
  {
   "cell_type": "markdown",
   "metadata": {},
   "source": [
    "#### Observation:\n",
    "- The important columns for the recommender system have no missing values"
   ]
  },
  {
   "cell_type": "code",
   "execution_count": 18,
   "metadata": {},
   "outputs": [],
   "source": [
    "# converting important columns to string data types since we are going to do text processing\n",
    "df[columns] = df[columns].astype('str')"
   ]
  },
  {
   "cell_type": "code",
   "execution_count": 19,
   "metadata": {},
   "outputs": [
    {
     "data": {
      "text/plain": [
       "actors         object\n",
       "directors      object\n",
       "genres         object\n",
       "title          object\n",
       "description    object\n",
       "dtype: object"
      ]
     },
     "execution_count": 19,
     "metadata": {},
     "output_type": "execute_result"
    }
   ],
   "source": [
    "df[columns].dtypes"
   ]
  },
  {
   "cell_type": "code",
   "execution_count": 20,
   "metadata": {},
   "outputs": [
    {
     "data": {
      "text/html": [
       "<div>\n",
       "<style scoped>\n",
       "    .dataframe tbody tr th:only-of-type {\n",
       "        vertical-align: middle;\n",
       "    }\n",
       "\n",
       "    .dataframe tbody tr th {\n",
       "        vertical-align: top;\n",
       "    }\n",
       "\n",
       "    .dataframe thead th {\n",
       "        text-align: right;\n",
       "    }\n",
       "</style>\n",
       "<table border=\"1\" class=\"dataframe\">\n",
       "  <thead>\n",
       "    <tr style=\"text-align: right;\">\n",
       "      <th></th>\n",
       "      <th>actors</th>\n",
       "      <th>directors</th>\n",
       "      <th>genres</th>\n",
       "      <th>title</th>\n",
       "      <th>description</th>\n",
       "    </tr>\n",
       "  </thead>\n",
       "  <tbody>\n",
       "    <tr>\n",
       "      <th>0</th>\n",
       "      <td>['Robert De Niro', 'Jodie Foster', 'Albert Bro...</td>\n",
       "      <td>['Martin Scorsese']</td>\n",
       "      <td>['crime', 'drama']</td>\n",
       "      <td>Taxi Driver</td>\n",
       "      <td>A mentally unstable Vietnam War veteran works ...</td>\n",
       "    </tr>\n",
       "    <tr>\n",
       "      <th>1</th>\n",
       "      <td>['Graham Chapman', 'John Cleese', 'Eric Idle',...</td>\n",
       "      <td>['Terry Jones', 'Terry Gilliam']</td>\n",
       "      <td>['comedy', 'fantasy']</td>\n",
       "      <td>Monty Python and the Holy Grail</td>\n",
       "      <td>King Arthur, accompanied by his squire, recrui...</td>\n",
       "    </tr>\n",
       "    <tr>\n",
       "      <th>2</th>\n",
       "      <td>['Graham Chapman', 'John Cleese', 'Terry Gilli...</td>\n",
       "      <td>['Terry Jones']</td>\n",
       "      <td>['comedy']</td>\n",
       "      <td>Life of Brian</td>\n",
       "      <td>Brian Cohen is an average young Jewish man, bu...</td>\n",
       "    </tr>\n",
       "    <tr>\n",
       "      <th>3</th>\n",
       "      <td>['Ellen Burstyn', 'Linda Blair', 'Max von Sydo...</td>\n",
       "      <td>['William Friedkin']</td>\n",
       "      <td>['horror']</td>\n",
       "      <td>The Exorcist</td>\n",
       "      <td>12-year-old Regan MacNeil begins to adapt an e...</td>\n",
       "    </tr>\n",
       "    <tr>\n",
       "      <th>4</th>\n",
       "      <td>['Graham Chapman', 'Michael Palin', 'Terry Jon...</td>\n",
       "      <td>[]</td>\n",
       "      <td>['comedy', 'european']</td>\n",
       "      <td>Monty Python's Flying Circus</td>\n",
       "      <td>A British sketch comedy series with the shows ...</td>\n",
       "    </tr>\n",
       "  </tbody>\n",
       "</table>\n",
       "</div>"
      ],
      "text/plain": [
       "                                              actors  \\\n",
       "0  ['Robert De Niro', 'Jodie Foster', 'Albert Bro...   \n",
       "1  ['Graham Chapman', 'John Cleese', 'Eric Idle',...   \n",
       "2  ['Graham Chapman', 'John Cleese', 'Terry Gilli...   \n",
       "3  ['Ellen Burstyn', 'Linda Blair', 'Max von Sydo...   \n",
       "4  ['Graham Chapman', 'Michael Palin', 'Terry Jon...   \n",
       "\n",
       "                          directors                  genres  \\\n",
       "0               ['Martin Scorsese']      ['crime', 'drama']   \n",
       "1  ['Terry Jones', 'Terry Gilliam']   ['comedy', 'fantasy']   \n",
       "2                   ['Terry Jones']              ['comedy']   \n",
       "3              ['William Friedkin']              ['horror']   \n",
       "4                                []  ['comedy', 'european']   \n",
       "\n",
       "                             title  \\\n",
       "0                      Taxi Driver   \n",
       "1  Monty Python and the Holy Grail   \n",
       "2                    Life of Brian   \n",
       "3                     The Exorcist   \n",
       "4     Monty Python's Flying Circus   \n",
       "\n",
       "                                         description  \n",
       "0  A mentally unstable Vietnam War veteran works ...  \n",
       "1  King Arthur, accompanied by his squire, recrui...  \n",
       "2  Brian Cohen is an average young Jewish man, bu...  \n",
       "3  12-year-old Regan MacNeil begins to adapt an e...  \n",
       "4  A British sketch comedy series with the shows ...  "
      ]
     },
     "execution_count": 20,
     "metadata": {},
     "output_type": "execute_result"
    }
   ],
   "source": [
    "df[columns].head()"
   ]
  },
  {
   "cell_type": "markdown",
   "metadata": {},
   "source": [
    "## Data Preprocessing"
   ]
  },
  {
   "cell_type": "code",
   "execution_count": 21,
   "metadata": {},
   "outputs": [],
   "source": [
    "# removing brackets from the strings\n",
    "for column in columns:\n",
    "    df[column] = df[column].str.strip('[]').astype(str)"
   ]
  },
  {
   "cell_type": "markdown",
   "metadata": {},
   "source": [
    "### Converting columns to lower case"
   ]
  },
  {
   "cell_type": "code",
   "execution_count": 22,
   "metadata": {},
   "outputs": [],
   "source": [
    "for column in columns:\n",
    "     df[column] = df[column].str.lower()"
   ]
  },
  {
   "cell_type": "code",
   "execution_count": 23,
   "metadata": {},
   "outputs": [
    {
     "data": {
      "text/html": [
       "<div>\n",
       "<style scoped>\n",
       "    .dataframe tbody tr th:only-of-type {\n",
       "        vertical-align: middle;\n",
       "    }\n",
       "\n",
       "    .dataframe tbody tr th {\n",
       "        vertical-align: top;\n",
       "    }\n",
       "\n",
       "    .dataframe thead th {\n",
       "        text-align: right;\n",
       "    }\n",
       "</style>\n",
       "<table border=\"1\" class=\"dataframe\">\n",
       "  <thead>\n",
       "    <tr style=\"text-align: right;\">\n",
       "      <th></th>\n",
       "      <th>actors</th>\n",
       "      <th>directors</th>\n",
       "      <th>genres</th>\n",
       "      <th>title</th>\n",
       "      <th>description</th>\n",
       "    </tr>\n",
       "  </thead>\n",
       "  <tbody>\n",
       "    <tr>\n",
       "      <th>0</th>\n",
       "      <td>'robert de niro', 'jodie foster', 'albert broo...</td>\n",
       "      <td>'martin scorsese'</td>\n",
       "      <td>'crime', 'drama'</td>\n",
       "      <td>taxi driver</td>\n",
       "      <td>a mentally unstable vietnam war veteran works ...</td>\n",
       "    </tr>\n",
       "    <tr>\n",
       "      <th>1</th>\n",
       "      <td>'graham chapman', 'john cleese', 'eric idle', ...</td>\n",
       "      <td>'terry jones', 'terry gilliam'</td>\n",
       "      <td>'comedy', 'fantasy'</td>\n",
       "      <td>monty python and the holy grail</td>\n",
       "      <td>king arthur, accompanied by his squire, recrui...</td>\n",
       "    </tr>\n",
       "    <tr>\n",
       "      <th>2</th>\n",
       "      <td>'graham chapman', 'john cleese', 'terry gillia...</td>\n",
       "      <td>'terry jones'</td>\n",
       "      <td>'comedy'</td>\n",
       "      <td>life of brian</td>\n",
       "      <td>brian cohen is an average young jewish man, bu...</td>\n",
       "    </tr>\n",
       "    <tr>\n",
       "      <th>3</th>\n",
       "      <td>'ellen burstyn', 'linda blair', 'max von sydow...</td>\n",
       "      <td>'william friedkin'</td>\n",
       "      <td>'horror'</td>\n",
       "      <td>the exorcist</td>\n",
       "      <td>12-year-old regan macneil begins to adapt an e...</td>\n",
       "    </tr>\n",
       "    <tr>\n",
       "      <th>4</th>\n",
       "      <td>'graham chapman', 'michael palin', 'terry jone...</td>\n",
       "      <td></td>\n",
       "      <td>'comedy', 'european'</td>\n",
       "      <td>monty python's flying circus</td>\n",
       "      <td>a british sketch comedy series with the shows ...</td>\n",
       "    </tr>\n",
       "  </tbody>\n",
       "</table>\n",
       "</div>"
      ],
      "text/plain": [
       "                                              actors  \\\n",
       "0  'robert de niro', 'jodie foster', 'albert broo...   \n",
       "1  'graham chapman', 'john cleese', 'eric idle', ...   \n",
       "2  'graham chapman', 'john cleese', 'terry gillia...   \n",
       "3  'ellen burstyn', 'linda blair', 'max von sydow...   \n",
       "4  'graham chapman', 'michael palin', 'terry jone...   \n",
       "\n",
       "                        directors                genres  \\\n",
       "0               'martin scorsese'      'crime', 'drama'   \n",
       "1  'terry jones', 'terry gilliam'   'comedy', 'fantasy'   \n",
       "2                   'terry jones'              'comedy'   \n",
       "3              'william friedkin'              'horror'   \n",
       "4                                  'comedy', 'european'   \n",
       "\n",
       "                             title  \\\n",
       "0                      taxi driver   \n",
       "1  monty python and the holy grail   \n",
       "2                    life of brian   \n",
       "3                     the exorcist   \n",
       "4     monty python's flying circus   \n",
       "\n",
       "                                         description  \n",
       "0  a mentally unstable vietnam war veteran works ...  \n",
       "1  king arthur, accompanied by his squire, recrui...  \n",
       "2  brian cohen is an average young jewish man, bu...  \n",
       "3  12-year-old regan macneil begins to adapt an e...  \n",
       "4  a british sketch comedy series with the shows ...  "
      ]
     },
     "execution_count": 23,
     "metadata": {},
     "output_type": "execute_result"
    }
   ],
   "source": [
    "df[columns].head()"
   ]
  },
  {
   "cell_type": "markdown",
   "metadata": {},
   "source": [
    "#### Observations:\n",
    "- Brackets have been eliminated\n",
    "- All strings in the important columns are now lower cased"
   ]
  },
  {
   "cell_type": "markdown",
   "metadata": {},
   "source": [
    "### Remove stop words from the description"
   ]
  },
  {
   "cell_type": "code",
   "execution_count": 24,
   "metadata": {},
   "outputs": [],
   "source": [
    "stop = stopwords.words('english')"
   ]
  },
  {
   "cell_type": "code",
   "execution_count": 25,
   "metadata": {},
   "outputs": [],
   "source": [
    "# Exclude stopwords with Python's list comprehension and pandas.DataFrame.apply.\n",
    "df['description'] = df['description'].apply(lambda x: ' '.join([word for word in x.split() if word not in (stop)]))"
   ]
  },
  {
   "cell_type": "markdown",
   "metadata": {},
   "source": [
    "### Check if stop words have been eliminated"
   ]
  },
  {
   "cell_type": "code",
   "execution_count": 26,
   "metadata": {},
   "outputs": [
    {
     "data": {
      "text/plain": [
       "0    This collection includes 12 World War II-era p...\n",
       "1    A mentally unstable Vietnam War veteran works ...\n",
       "2    King Arthur, accompanied by his squire, recrui...\n",
       "3    Brian Cohen is an average young Jewish man, bu...\n",
       "4    12-year-old Regan MacNeil begins to adapt an e...\n",
       "Name: description, dtype: object"
      ]
     },
     "execution_count": 26,
     "metadata": {},
     "output_type": "execute_result"
    }
   ],
   "source": [
    "# check the description in the original data set\n",
    "df_titles[\"description\"].head()"
   ]
  },
  {
   "cell_type": "code",
   "execution_count": 27,
   "metadata": {},
   "outputs": [
    {
     "data": {
      "text/plain": [
       "0    mentally unstable vietnam war veteran works ni...\n",
       "1    king arthur, accompanied squire, recruits knig...\n",
       "2    brian cohen average young jewish man, series r...\n",
       "3    12-year-old regan macneil begins adapt explici...\n",
       "4    british sketch comedy series shows composed su...\n",
       "Name: description, dtype: object"
      ]
     },
     "execution_count": 27,
     "metadata": {},
     "output_type": "execute_result"
    }
   ],
   "source": [
    "# check the description in the new set\n",
    "df[\"description\"].head()"
   ]
  },
  {
   "cell_type": "markdown",
   "metadata": {},
   "source": [
    "#### Observation:\n",
    "- stop words have been eliminated"
   ]
  },
  {
   "cell_type": "markdown",
   "metadata": {},
   "source": [
    "### Applying Stemming on words in the description column\n",
    "- Stemming is the process of reducing a word to its word stem that affixes to suffixes and prefixes or to the roots of words known as a lemma"
   ]
  },
  {
   "cell_type": "code",
   "execution_count": 28,
   "metadata": {},
   "outputs": [],
   "source": [
    "# Use English stemmer.\n",
    "stemmer = SnowballStemmer(\"english\")\n",
    "# Split the sentences to lists of words.\n",
    "df['description'] = df['description'].str.split()\n",
    "# Apply stemmer\n",
    "df[\"description\"] = df[\"description\"].apply(lambda x: [stemmer.stem(y) for y in x])\n"
   ]
  },
  {
   "cell_type": "code",
   "execution_count": 29,
   "metadata": {},
   "outputs": [
    {
     "data": {
      "text/plain": [
       "0    [mental, unstabl, vietnam, war, veteran, work,...\n",
       "1    [king, arthur,, accompani, squire,, recruit, k...\n",
       "2    [brian, cohen, averag, young, jewish, man,, se...\n",
       "3    [12-year-old, regan, macneil, begin, adapt, ex...\n",
       "4    [british, sketch, comedi, seri, show, compos, ...\n",
       "Name: description, dtype: object"
      ]
     },
     "execution_count": 29,
     "metadata": {},
     "output_type": "execute_result"
    }
   ],
   "source": [
    "# view how stemming has worked\n",
    "df[\"description\"].head()"
   ]
  },
  {
   "cell_type": "markdown",
   "metadata": {},
   "source": [
    "### Lemmatization\n",
    "- Lemmatization is the process of grouping together the different inflected forms of a word so they can be analyzed as a single item.\n",
    "-  Lemmatization is similar to stemming but it brings context to the words."
   ]
  },
  {
   "cell_type": "code",
   "execution_count": 30,
   "metadata": {},
   "outputs": [],
   "source": [
    "lemmatizer = WordNetLemmatizer()"
   ]
  },
  {
   "cell_type": "code",
   "execution_count": 31,
   "metadata": {},
   "outputs": [
    {
     "data": {
      "text/plain": [
       "0    [mental, unstabl, vietnam, war, veteran, work,...\n",
       "1    [king, arthur,, accompani, squire,, recruit, k...\n",
       "2    [brian, cohen, averag, young, jewish, man,, se...\n",
       "3    [12-year-old, regan, macneil, begin, adapt, ex...\n",
       "4    [british, sketch, comedi, seri, show, compos, ...\n",
       "Name: description, dtype: object"
      ]
     },
     "execution_count": 31,
     "metadata": {},
     "output_type": "execute_result"
    }
   ],
   "source": [
    "df[\"description\"] = df[\"description\"].apply(lambda x: [lemmatizer.lemmatize(y) for y in x])\n",
    "df[\"description\"].head()"
   ]
  },
  {
   "cell_type": "code",
   "execution_count": 32,
   "metadata": {},
   "outputs": [],
   "source": [
    "# convert descriptions back to strings\n",
    "df[\"description\"] = df[\"description\"].astype('str')"
   ]
  },
  {
   "cell_type": "code",
   "execution_count": 33,
   "metadata": {},
   "outputs": [
    {
     "data": {
      "text/plain": [
       "0    'mental', 'unstabl', 'vietnam', 'war', 'vetera...\n",
       "1    'king', 'arthur,', 'accompani', 'squire,', 're...\n",
       "2    'brian', 'cohen', 'averag', 'young', 'jewish',...\n",
       "3    '12-year-old', 'regan', 'macneil', 'begin', 'a...\n",
       "4    'british', 'sketch', 'comedi', 'seri', 'show',...\n",
       "Name: description, dtype: object"
      ]
     },
     "execution_count": 33,
     "metadata": {},
     "output_type": "execute_result"
    }
   ],
   "source": [
    "# remove brackets from description\n",
    "df[\"description\"] = df[\"description\"].str.strip('[]').astype(str)\n",
    "# view how the descriptions now look\n",
    "df[\"description\"].head()"
   ]
  },
  {
   "cell_type": "code",
   "execution_count": 34,
   "metadata": {},
   "outputs": [],
   "source": [
    "# create a function to combine values of important columns into one string\n",
    "def get_important_features(data):\n",
    "    important_features = []\n",
    "    for i in range(0, data.shape[0]):\n",
    "        important_features.append(data[\"actors\"][i]+\" \"+data[\"directors\"][i]+\" \"+data[\"genres\"][i]+\n",
    "                                  \" \"+data[\"title\"][i]+\" \"+data[\"description\"][i])\n",
    "    return important_features"
   ]
  },
  {
   "cell_type": "code",
   "execution_count": 35,
   "metadata": {},
   "outputs": [],
   "source": [
    "# create column to hold combined string\n",
    "df[\"important_features\"] = get_important_features(df)"
   ]
  },
  {
   "cell_type": "code",
   "execution_count": 36,
   "metadata": {},
   "outputs": [
    {
     "data": {
      "text/html": [
       "<div>\n",
       "<style scoped>\n",
       "    .dataframe tbody tr th:only-of-type {\n",
       "        vertical-align: middle;\n",
       "    }\n",
       "\n",
       "    .dataframe tbody tr th {\n",
       "        vertical-align: top;\n",
       "    }\n",
       "\n",
       "    .dataframe thead th {\n",
       "        text-align: right;\n",
       "    }\n",
       "</style>\n",
       "<table border=\"1\" class=\"dataframe\">\n",
       "  <thead>\n",
       "    <tr style=\"text-align: right;\">\n",
       "      <th></th>\n",
       "      <th>id</th>\n",
       "      <th>title</th>\n",
       "      <th>type</th>\n",
       "      <th>description</th>\n",
       "      <th>release_year</th>\n",
       "      <th>age_certification</th>\n",
       "      <th>runtime</th>\n",
       "      <th>genres</th>\n",
       "      <th>production_countries</th>\n",
       "      <th>seasons</th>\n",
       "      <th>imdb_id</th>\n",
       "      <th>imdb_score</th>\n",
       "      <th>imdb_votes</th>\n",
       "      <th>tmdb_popularity</th>\n",
       "      <th>tmdb_score</th>\n",
       "      <th>actors</th>\n",
       "      <th>directors</th>\n",
       "      <th>important_features</th>\n",
       "    </tr>\n",
       "  </thead>\n",
       "  <tbody>\n",
       "    <tr>\n",
       "      <th>0</th>\n",
       "      <td>tm84618</td>\n",
       "      <td>taxi driver</td>\n",
       "      <td>MOVIE</td>\n",
       "      <td>'mental', 'unstabl', 'vietnam', 'war', 'vetera...</td>\n",
       "      <td>1976</td>\n",
       "      <td>R</td>\n",
       "      <td>113</td>\n",
       "      <td>'crime', 'drama'</td>\n",
       "      <td>['US']</td>\n",
       "      <td>NaN</td>\n",
       "      <td>tt0075314</td>\n",
       "      <td>8.3</td>\n",
       "      <td>795222.0</td>\n",
       "      <td>27.612</td>\n",
       "      <td>8.2</td>\n",
       "      <td>'robert de niro', 'jodie foster', 'albert broo...</td>\n",
       "      <td>'martin scorsese'</td>\n",
       "      <td>'robert de niro', 'jodie foster', 'albert broo...</td>\n",
       "    </tr>\n",
       "    <tr>\n",
       "      <th>1</th>\n",
       "      <td>tm127384</td>\n",
       "      <td>monty python and the holy grail</td>\n",
       "      <td>MOVIE</td>\n",
       "      <td>'king', 'arthur,', 'accompani', 'squire,', 're...</td>\n",
       "      <td>1975</td>\n",
       "      <td>PG</td>\n",
       "      <td>91</td>\n",
       "      <td>'comedy', 'fantasy'</td>\n",
       "      <td>['GB']</td>\n",
       "      <td>NaN</td>\n",
       "      <td>tt0071853</td>\n",
       "      <td>8.2</td>\n",
       "      <td>530877.0</td>\n",
       "      <td>18.216</td>\n",
       "      <td>7.8</td>\n",
       "      <td>'graham chapman', 'john cleese', 'eric idle', ...</td>\n",
       "      <td>'terry jones', 'terry gilliam'</td>\n",
       "      <td>'graham chapman', 'john cleese', 'eric idle', ...</td>\n",
       "    </tr>\n",
       "    <tr>\n",
       "      <th>2</th>\n",
       "      <td>tm70993</td>\n",
       "      <td>life of brian</td>\n",
       "      <td>MOVIE</td>\n",
       "      <td>'brian', 'cohen', 'averag', 'young', 'jewish',...</td>\n",
       "      <td>1979</td>\n",
       "      <td>R</td>\n",
       "      <td>94</td>\n",
       "      <td>'comedy'</td>\n",
       "      <td>['GB']</td>\n",
       "      <td>NaN</td>\n",
       "      <td>tt0079470</td>\n",
       "      <td>8.0</td>\n",
       "      <td>392419.0</td>\n",
       "      <td>17.505</td>\n",
       "      <td>7.8</td>\n",
       "      <td>'graham chapman', 'john cleese', 'terry gillia...</td>\n",
       "      <td>'terry jones'</td>\n",
       "      <td>'graham chapman', 'john cleese', 'terry gillia...</td>\n",
       "    </tr>\n",
       "    <tr>\n",
       "      <th>3</th>\n",
       "      <td>tm190788</td>\n",
       "      <td>the exorcist</td>\n",
       "      <td>MOVIE</td>\n",
       "      <td>'12-year-old', 'regan', 'macneil', 'begin', 'a...</td>\n",
       "      <td>1973</td>\n",
       "      <td>R</td>\n",
       "      <td>133</td>\n",
       "      <td>'horror'</td>\n",
       "      <td>['US']</td>\n",
       "      <td>NaN</td>\n",
       "      <td>tt0070047</td>\n",
       "      <td>8.1</td>\n",
       "      <td>391942.0</td>\n",
       "      <td>95.337</td>\n",
       "      <td>7.7</td>\n",
       "      <td>'ellen burstyn', 'linda blair', 'max von sydow...</td>\n",
       "      <td>'william friedkin'</td>\n",
       "      <td>'ellen burstyn', 'linda blair', 'max von sydow...</td>\n",
       "    </tr>\n",
       "    <tr>\n",
       "      <th>4</th>\n",
       "      <td>ts22164</td>\n",
       "      <td>monty python's flying circus</td>\n",
       "      <td>SHOW</td>\n",
       "      <td>'british', 'sketch', 'comedi', 'seri', 'show',...</td>\n",
       "      <td>1969</td>\n",
       "      <td>TV-14</td>\n",
       "      <td>30</td>\n",
       "      <td>'comedy', 'european'</td>\n",
       "      <td>['GB']</td>\n",
       "      <td>4.0</td>\n",
       "      <td>tt0063929</td>\n",
       "      <td>8.8</td>\n",
       "      <td>72895.0</td>\n",
       "      <td>12.919</td>\n",
       "      <td>8.3</td>\n",
       "      <td>'graham chapman', 'michael palin', 'terry jone...</td>\n",
       "      <td></td>\n",
       "      <td>'graham chapman', 'michael palin', 'terry jone...</td>\n",
       "    </tr>\n",
       "  </tbody>\n",
       "</table>\n",
       "</div>"
      ],
      "text/plain": [
       "         id                            title   type  \\\n",
       "0   tm84618                      taxi driver  MOVIE   \n",
       "1  tm127384  monty python and the holy grail  MOVIE   \n",
       "2   tm70993                    life of brian  MOVIE   \n",
       "3  tm190788                     the exorcist  MOVIE   \n",
       "4   ts22164     monty python's flying circus   SHOW   \n",
       "\n",
       "                                         description  release_year  \\\n",
       "0  'mental', 'unstabl', 'vietnam', 'war', 'vetera...          1976   \n",
       "1  'king', 'arthur,', 'accompani', 'squire,', 're...          1975   \n",
       "2  'brian', 'cohen', 'averag', 'young', 'jewish',...          1979   \n",
       "3  '12-year-old', 'regan', 'macneil', 'begin', 'a...          1973   \n",
       "4  'british', 'sketch', 'comedi', 'seri', 'show',...          1969   \n",
       "\n",
       "  age_certification  runtime                genres production_countries  \\\n",
       "0                 R      113      'crime', 'drama'               ['US']   \n",
       "1                PG       91   'comedy', 'fantasy'               ['GB']   \n",
       "2                 R       94              'comedy'               ['GB']   \n",
       "3                 R      133              'horror'               ['US']   \n",
       "4             TV-14       30  'comedy', 'european'               ['GB']   \n",
       "\n",
       "   seasons    imdb_id  imdb_score  imdb_votes  tmdb_popularity  tmdb_score  \\\n",
       "0      NaN  tt0075314         8.3    795222.0           27.612         8.2   \n",
       "1      NaN  tt0071853         8.2    530877.0           18.216         7.8   \n",
       "2      NaN  tt0079470         8.0    392419.0           17.505         7.8   \n",
       "3      NaN  tt0070047         8.1    391942.0           95.337         7.7   \n",
       "4      4.0  tt0063929         8.8     72895.0           12.919         8.3   \n",
       "\n",
       "                                              actors  \\\n",
       "0  'robert de niro', 'jodie foster', 'albert broo...   \n",
       "1  'graham chapman', 'john cleese', 'eric idle', ...   \n",
       "2  'graham chapman', 'john cleese', 'terry gillia...   \n",
       "3  'ellen burstyn', 'linda blair', 'max von sydow...   \n",
       "4  'graham chapman', 'michael palin', 'terry jone...   \n",
       "\n",
       "                        directors  \\\n",
       "0               'martin scorsese'   \n",
       "1  'terry jones', 'terry gilliam'   \n",
       "2                   'terry jones'   \n",
       "3              'william friedkin'   \n",
       "4                                   \n",
       "\n",
       "                                  important_features  \n",
       "0  'robert de niro', 'jodie foster', 'albert broo...  \n",
       "1  'graham chapman', 'john cleese', 'eric idle', ...  \n",
       "2  'graham chapman', 'john cleese', 'terry gillia...  \n",
       "3  'ellen burstyn', 'linda blair', 'max von sydow...  \n",
       "4  'graham chapman', 'michael palin', 'terry jone...  "
      ]
     },
     "execution_count": 36,
     "metadata": {},
     "output_type": "execute_result"
    }
   ],
   "source": [
    "# view the first five rows of the data frame with the important_features column\n",
    "df.head()"
   ]
  },
  {
   "cell_type": "code",
   "execution_count": 37,
   "metadata": {},
   "outputs": [
    {
     "data": {
      "text/plain": [
       "0    'robert de niro', 'jodie foster', 'albert brooks', 'harvey keitel', 'cybill shepherd', 'peter boyle', 'leonard harris', 'diahnne abbott', 'gino ardito', 'martin scorsese', 'murray moston', 'richard higgs', 'bill minkin', 'bob maroff', 'victor argo', 'joe spinell', 'robinson frank adu', 'brenda dickson', 'norman matlock', 'harry northup', 'harlan cary poe', 'steven prince', 'peter savage', 'nicholas shields', 'ralph s. singleton', 'annie gagen', 'carson grant', 'mary-pat green', 'debbi morgan', 'don stroud', 'copper cunningham', 'garth avery', 'nat grant', 'billie perkins', 'catherine scorsese', 'charles scorsese' 'martin scorsese' 'crime', 'drama' taxi driver 'mental', 'unstabl', 'vietnam', 'war', 'veteran', 'work', 'night-tim', 'taxi', 'driver', 'new', 'york', 'citi', 'perceiv', 'decad', 'sleaz', 'feed', 'urg', 'violent', 'action,', 'attempt', 'save', 'preadolesc', 'prostitut', 'process.'\n",
       "Name: important_features, dtype: object"
      ]
     },
     "execution_count": 37,
     "metadata": {},
     "output_type": "execute_result"
    }
   ],
   "source": [
    "# Make sure we see the full column.\n",
    "pd.set_option('display.max_colwidth', 1000)\n",
    "\n",
    "# view one the first cell of important features\n",
    "df[\"important_features\"].head(1)"
   ]
  },
  {
   "cell_type": "markdown",
   "metadata": {},
   "source": [
    "# Recommendation System"
   ]
  },
  {
   "cell_type": "markdown",
   "metadata": {},
   "source": [
    "## Recommender using Count vectorizer"
   ]
  },
  {
   "cell_type": "code",
   "execution_count": 38,
   "metadata": {},
   "outputs": [],
   "source": [
    "df1 = df.copy()"
   ]
  },
  {
   "cell_type": "code",
   "execution_count": 39,
   "metadata": {},
   "outputs": [],
   "source": [
    "# convert text to matrix of token counts\n",
    "\n",
    "cm = CountVectorizer().fit_transform(df1[\"important_features\"])\n"
   ]
  },
  {
   "cell_type": "code",
   "execution_count": 40,
   "metadata": {},
   "outputs": [],
   "source": [
    "# Get cosine matrix from the count matrix\n",
    "cs = cosine_similarity(cm)"
   ]
  },
  {
   "cell_type": "code",
   "execution_count": 41,
   "metadata": {},
   "outputs": [
    {
     "name": "stdout",
     "output_type": "stream",
     "text": [
      "[[1.         0.00579294 0.02343822 ... 0.         0.01342675 0.02441931]\n",
      " [0.00579294 1.         0.33862588 ... 0.         0.02006734 0.00912415]\n",
      " [0.02343822 0.33862588 1.         ... 0.         0.0676603  0.        ]\n",
      " ...\n",
      " [0.         0.         0.         ... 1.         0.         0.        ]\n",
      " [0.01342675 0.02006734 0.0676603  ... 0.         1.         0.02114775]\n",
      " [0.02441931 0.00912415 0.         ... 0.         0.02114775 1.        ]]\n"
     ]
    }
   ],
   "source": [
    "# print similarity matrix\n",
    "print(cs)"
   ]
  },
  {
   "cell_type": "code",
   "execution_count": 42,
   "metadata": {},
   "outputs": [
    {
     "data": {
      "text/plain": [
       "(5434, 5434)"
      ]
     },
     "execution_count": 42,
     "metadata": {},
     "output_type": "execute_result"
    }
   ],
   "source": [
    "# Get the shape of the cosine similarity matrix\n",
    "cs.shape"
   ]
  },
  {
   "cell_type": "code",
   "execution_count": 43,
   "metadata": {},
   "outputs": [],
   "source": [
    "#Construct a reverse map of indices and movie titles\n",
    "indices = pd.Series(df1.index, index=df1['title']).drop_duplicates()"
   ]
  },
  {
   "cell_type": "code",
   "execution_count": 44,
   "metadata": {},
   "outputs": [],
   "source": [
    "# Function that takes in movie title as input and outputs most similar movies\n",
    "def get_recommendations(title, cs=cs):\n",
    "    # Get the index of the movie that matches the title\n",
    "    idx = indices[title]\n",
    "\n",
    "    # Create a list of enumerations for the similarity scores\n",
    "    scores = list(enumerate(cs[idx]))\n",
    "\n",
    "    # Sort the movie list based on the similarity scores\n",
    "    sorted_scores = sorted(scores, key=lambda x: x[1], reverse=True)\n",
    "\n",
    "    # Get the scores of the 10 most similar movies\n",
    "    sorted_scores =  sorted_scores[1:11]\n",
    "\n",
    "    # Get the movie indices\n",
    "    movie_indices = [i[0] for i in sorted_scores]\n",
    "    \n",
    "    # Create a loop to print the ten most similar movies\n",
    "    print(\"The 10 most recommended movies to \", title , \"are:\\n\")\n",
    "    j=0\n",
    "    for i in sorted_scores:\n",
    "        movie_title = df1[df1.index==i[0]][\"title\"].values[0]\n",
    "        print(j+1, movie_title)\n",
    "        j = j+1\n",
    "        if j>9:\n",
    "            break"
   ]
  },
  {
   "cell_type": "markdown",
   "metadata": {},
   "source": [
    "### Let us try out the recommender system using 4 movies"
   ]
  },
  {
   "cell_type": "code",
   "execution_count": 45,
   "metadata": {},
   "outputs": [
    {
     "name": "stdout",
     "output_type": "stream",
     "text": [
      "The 10 most recommended movies to  fatherhood are:\n",
      "\n",
      "1 good sam\n",
      "2 pee-wee's big holiday\n",
      "3 kevin hart's guide to black history\n",
      "4 true story\n",
      "5 war of the worlds\n",
      "6 legend\n",
      "7 horse girl\n",
      "8 silver linings playbook\n",
      "9 dad stop embarrassing me!\n",
      "10 saving private ryan\n"
     ]
    }
   ],
   "source": [
    "get_recommendations(\"fatherhood\")"
   ]
  },
  {
   "cell_type": "code",
   "execution_count": 46,
   "metadata": {},
   "outputs": [
    {
     "name": "stdout",
     "output_type": "stream",
     "text": [
      "The 10 most recommended movies to  inception are:\n",
      "\n",
      "1 dunkirk\n",
      "2 teenage mutant ninja turtles ii: the secret of the ooze\n",
      "3 argo\n",
      "4 triple threat\n",
      "5 to all the boys: p.s. i still love you\n",
      "6 forrest gump\n",
      "7 body of lies\n",
      "8 the imitation game\n",
      "9 6 underground\n",
      "10 top gun\n"
     ]
    }
   ],
   "source": [
    "get_recommendations(\"inception\")"
   ]
  },
  {
   "cell_type": "code",
   "execution_count": 47,
   "metadata": {},
   "outputs": [
    {
     "name": "stdout",
     "output_type": "stream",
     "text": [
      "The 10 most recommended movies to  dunkirk are:\n",
      "\n",
      "1 inception\n",
      "2 the imitation game\n",
      "3 darkest hour\n",
      "4 the king\n",
      "5 django unchained\n",
      "6 talking tom and friends\n",
      "7 the liberator\n",
      "8 the irishman\n",
      "9 rebellion\n",
      "10 the blind side\n"
     ]
    }
   ],
   "source": [
    "get_recommendations(\"dunkirk\")"
   ]
  },
  {
   "cell_type": "code",
   "execution_count": 48,
   "metadata": {},
   "outputs": [
    {
     "name": "stdout",
     "output_type": "stream",
     "text": [
      "The 10 most recommended movies to  cocomelon are:\n",
      "\n",
      "1 go! go! cory carson\n",
      "2 rhyme time town\n",
      "3 blippi wonders\n",
      "4 ask the storybots\n",
      "5 sofia the first\n",
      "6 barbie: life in the dreamhouse\n",
      "7 luna petunia\n",
      "8 charlie's colorforms city\n",
      "9 44 cats\n",
      "10 rainbow high\n"
     ]
    }
   ],
   "source": [
    "get_recommendations(\"cocomelon\")"
   ]
  },
  {
   "cell_type": "markdown",
   "metadata": {},
   "source": [
    "## Recommender using TFIDF Vectorizer"
   ]
  },
  {
   "cell_type": "code",
   "execution_count": 49,
   "metadata": {},
   "outputs": [],
   "source": [
    "# make a copy of the preprocessed data frame\n",
    "df2 = df.copy()"
   ]
  },
  {
   "cell_type": "code",
   "execution_count": 50,
   "metadata": {},
   "outputs": [],
   "source": [
    "# initialize the tfidf vectorizer\n",
    "tfidf = TfidfVectorizer()\n",
    "# convert text to matrix of token counts\n",
    "tfidf_matrix= tfidf.fit_transform(df2[\"important_features\"])"
   ]
  },
  {
   "cell_type": "code",
   "execution_count": 51,
   "metadata": {},
   "outputs": [
    {
     "data": {
      "text/plain": [
       "(5434, 58601)"
      ]
     },
     "execution_count": 51,
     "metadata": {},
     "output_type": "execute_result"
    }
   ],
   "source": [
    "#print shape of matrix\n",
    "tfidf_matrix.shape"
   ]
  },
  {
   "cell_type": "code",
   "execution_count": 52,
   "metadata": {},
   "outputs": [],
   "source": [
    "# Compute the cosine similarity matrix\n",
    "cs2= linear_kernel(tfidf_matrix, tfidf_matrix)"
   ]
  },
  {
   "cell_type": "code",
   "execution_count": 53,
   "metadata": {},
   "outputs": [
    {
     "data": {
      "text/plain": [
       "(5434, 5434)"
      ]
     },
     "execution_count": 53,
     "metadata": {},
     "output_type": "execute_result"
    }
   ],
   "source": [
    "# print shape of cosine similarity matrix\n",
    "cs2.shape"
   ]
  },
  {
   "cell_type": "code",
   "execution_count": 54,
   "metadata": {},
   "outputs": [
    {
     "name": "stdout",
     "output_type": "stream",
     "text": [
      "[[1.00000000e+00 3.36031687e-03 1.16232521e-02 ... 0.00000000e+00\n",
      "  7.84297292e-04 7.95893051e-03]\n",
      " [3.36031687e-03 1.00000000e+00 2.27474604e-01 ... 0.00000000e+00\n",
      "  7.77655049e-03 4.03166975e-03]\n",
      " [1.16232521e-02 2.27474604e-01 1.00000000e+00 ... 0.00000000e+00\n",
      "  2.79992635e-02 0.00000000e+00]\n",
      " ...\n",
      " [0.00000000e+00 0.00000000e+00 0.00000000e+00 ... 1.00000000e+00\n",
      "  0.00000000e+00 0.00000000e+00]\n",
      " [7.84297292e-04 7.77655049e-03 2.79992635e-02 ... 0.00000000e+00\n",
      "  1.00000000e+00 4.92416052e-03]\n",
      " [7.95893051e-03 4.03166975e-03 0.00000000e+00 ... 0.00000000e+00\n",
      "  4.92416052e-03 1.00000000e+00]]\n"
     ]
    }
   ],
   "source": [
    "print(cs2)"
   ]
  },
  {
   "cell_type": "code",
   "execution_count": 55,
   "metadata": {},
   "outputs": [],
   "source": [
    "#Construct a reverse map of indices and movie titles\n",
    "indices1 = pd.Series(df2.index, index=df1['title']).drop_duplicates()"
   ]
  },
  {
   "cell_type": "code",
   "execution_count": 56,
   "metadata": {},
   "outputs": [],
   "source": [
    "# Function that takes in movie title as input and outputs most similar movies\n",
    "def get_recommendations_tfidf(title, cs=cs2):\n",
    "    # Get the index of the movie that matches the title\n",
    "    idx = indices1[title]\n",
    "\n",
    "    # Create a list of enumerations for the similarity scores\n",
    "    scores = list(enumerate(cs[idx]))\n",
    "\n",
    "    # Sort the movie list based on the similarity scores\n",
    "    sorted_scores = sorted(scores, key=lambda x: x[1], reverse=True)\n",
    "\n",
    "    # Get the scores of the 10 most similar movies\n",
    "    sorted_scores =  sorted_scores[1:11]\n",
    "\n",
    "    # Get the movie indices\n",
    "    movie_indices = [i[0] for i in sorted_scores]\n",
    "    \n",
    "    # Create a loop to print the ten most similar movies\n",
    "    print(\"The 10 most recommended movies to \", title , \"are:\\n\")\n",
    "    j=0\n",
    "    for i in sorted_scores:\n",
    "        movie_title = df2[df2.index==i[0]][\"title\"].values[0]\n",
    "        print(j+1, movie_title)\n",
    "        j = j+1\n",
    "        if j>9:\n",
    "            break"
   ]
  },
  {
   "cell_type": "markdown",
   "metadata": {},
   "source": [
    "### Let us try out the recommender system using 4 movies"
   ]
  },
  {
   "cell_type": "code",
   "execution_count": 57,
   "metadata": {},
   "outputs": [
    {
     "name": "stdout",
     "output_type": "stream",
     "text": [
      "The 10 most recommended movies to  fatherhood are:\n",
      "\n",
      "1 good sam\n",
      "2 kevin hart's guide to black history\n",
      "3 bad trip\n",
      "4 kevin hart: don't f**k this up\n",
      "5 kevin hart: irresponsible\n",
      "6 war of the worlds\n",
      "7 she's gotta have it\n",
      "8 dad stop embarrassing me!\n",
      "9 murder mystery\n",
      "10 grey's anatomy\n"
     ]
    }
   ],
   "source": [
    "get_recommendations_tfidf(\"fatherhood\")"
   ]
  },
  {
   "cell_type": "code",
   "execution_count": 58,
   "metadata": {},
   "outputs": [
    {
     "name": "stdout",
     "output_type": "stream",
     "text": [
      "The 10 most recommended movies to  inception are:\n",
      "\n",
      "1 dunkirk\n",
      "2 the paper tigers\n",
      "3 the ryan white story\n",
      "4 to all the boys: p.s. i still love you\n",
      "5 triple threat\n",
      "6 body of lies\n",
      "7 argo\n",
      "8 dragons: dawn of the dragon racers\n",
      "9 talking tom and friends\n",
      "10 they'll love me when i'm dead\n"
     ]
    }
   ],
   "source": [
    "get_recommendations_tfidf(\"inception\")"
   ]
  },
  {
   "cell_type": "code",
   "execution_count": 59,
   "metadata": {},
   "outputs": [
    {
     "name": "stdout",
     "output_type": "stream",
     "text": [
      "The 10 most recommended movies to  dunkirk are:\n",
      "\n",
      "1 inception\n",
      "2 darkest hour\n",
      "3 the imitation game\n",
      "4 the king\n",
      "5 iboy\n",
      "6 tmnt\n",
      "7 lego dc comics super heroes: batman be-leaguered\n",
      "8 the witcher: nightmare of the wolf\n",
      "9 legend\n",
      "10 the liberator\n"
     ]
    }
   ],
   "source": [
    "get_recommendations_tfidf(\"dunkirk\")"
   ]
  },
  {
   "cell_type": "code",
   "execution_count": 60,
   "metadata": {},
   "outputs": [
    {
     "name": "stdout",
     "output_type": "stream",
     "text": [
      "The 10 most recommended movies to  cocomelon are:\n",
      "\n",
      "1 rhyme time town\n",
      "2 go! go! cory carson\n",
      "3 blippi wonders\n",
      "4 how to get over a breakup\n",
      "5 the boss baby: back in business\n",
      "6 ask the storybots\n",
      "7 greenhouse academy\n",
      "8 sofia the first\n",
      "9 anchor baby\n",
      "10 fun mom dinner\n"
     ]
    }
   ],
   "source": [
    "get_recommendations_tfidf(\"cocomelon\")"
   ]
  },
  {
   "cell_type": "markdown",
   "metadata": {},
   "source": [
    "## Comparison of the recommenders"
   ]
  },
  {
   "cell_type": "markdown",
   "metadata": {},
   "source": [
    "- In both recommendation systems atleast 3 of the recommended movies for each movie input are similar\n",
    "- The count vectorizer shows better results as it returned better results for the cocomelon show. All the movies returned were kids movies as compared to the tfidf vectorizer."
   ]
  }
 ],
 "metadata": {
  "kernelspec": {
   "display_name": "Python 3",
   "language": "python",
   "name": "python3"
  },
  "language_info": {
   "codemirror_mode": {
    "name": "ipython",
    "version": 3
   },
   "file_extension": ".py",
   "mimetype": "text/x-python",
   "name": "python",
   "nbconvert_exporter": "python",
   "pygments_lexer": "ipython3",
   "version": "3.7.4"
  }
 },
 "nbformat": 4,
 "nbformat_minor": 2
}
